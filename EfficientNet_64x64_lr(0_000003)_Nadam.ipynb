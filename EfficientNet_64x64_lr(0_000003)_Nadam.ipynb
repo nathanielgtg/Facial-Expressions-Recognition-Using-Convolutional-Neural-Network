{
  "cells": [
    {
      "cell_type": "markdown",
      "metadata": {
        "id": "view-in-github",
        "colab_type": "text"
      },
      "source": [
        "<a href=\"https://colab.research.google.com/github/nathanielgtg/Facial-Expressions-Recognition-Using-Convolutional-Neural-Network/blob/EfficientNet/EfficientNet_64x64_lr(0_000003)_Nadam.ipynb\" target=\"_parent\"><img src=\"https://colab.research.google.com/assets/colab-badge.svg\" alt=\"Open In Colab\"/></a>"
      ]
    },
    {
      "cell_type": "code",
      "execution_count": null,
      "metadata": {
        "id": "oLsmNdLe9zv4"
      },
      "outputs": [],
      "source": [
        "from google.colab import drive\n"
      ]
    },
    {
      "cell_type": "code",
      "execution_count": null,
      "metadata": {
        "id": "i_d3fbbRUAFm",
        "colab": {
          "base_uri": "https://localhost:8080/"
        },
        "outputId": "3c31eb6a-6fc7-4bb5-b542-df699c387bf7"
      },
      "outputs": [
        {
          "output_type": "stream",
          "name": "stdout",
          "text": [
            "Drive already mounted at /content/drive; to attempt to forcibly remount, call drive.mount(\"/content/drive\", force_remount=True).\n"
          ]
        }
      ],
      "source": [
        "drive.mount('/content/drive')"
      ]
    },
    {
      "cell_type": "code",
      "execution_count": null,
      "metadata": {
        "id": "pxvn-oyRS-Ep",
        "colab": {
          "base_uri": "https://localhost:8080/"
        },
        "outputId": "0dd27fa5-5249-4808-b516-a8e05f989419"
      },
      "outputs": [
        {
          "output_type": "stream",
          "name": "stdout",
          "text": [
            "/content/drive/My Drive/Colab-Notebook\n"
          ]
        }
      ],
      "source": [
        "cd /content/drive/My Drive/Colab-Notebook"
      ]
    },
    {
      "cell_type": "code",
      "execution_count": null,
      "metadata": {
        "id": "C8TYY3hnTTYE",
        "colab": {
          "base_uri": "https://localhost:8080/"
        },
        "outputId": "bf1930ce-8cde-4d14-b72f-90c6b00e6fb4"
      },
      "outputs": [
        {
          "output_type": "stream",
          "name": "stdout",
          "text": [
            "\u001b[0m\u001b[01;34mCK+48\u001b[0m/  model_plot.png\n"
          ]
        }
      ],
      "source": [
        "ls"
      ]
    },
    {
      "cell_type": "code",
      "execution_count": null,
      "metadata": {
        "id": "9b0--alAU28t"
      },
      "outputs": [],
      "source": [
        "# import the necessary packages\n",
        "from keras.models import Sequential\n",
        "from keras.layers.convolutional import Conv2D\n",
        "from keras.layers.convolutional import MaxPooling2D\n",
        "from keras.layers.core import Activation\n",
        "from keras.layers.core import Flatten\n",
        "from keras.layers.core import Dense\n",
        "from tensorflow.keras.optimizers import Adam, SGD, RMSprop\n",
        "from sklearn.preprocessing import LabelBinarizer\n",
        "from sklearn.model_selection import train_test_split\n",
        "from sklearn.metrics import classification_report\n",
        "from PIL import Image\n",
        "from keras import backend as K\n",
        "from imutils import paths\n",
        "from keras.layers import Dropout\n",
        "import numpy as np\n",
        "import os"
      ]
    },
    {
      "cell_type": "code",
      "execution_count": null,
      "metadata": {
        "id": "Om3VowjlVBTU",
        "colab": {
          "base_uri": "https://localhost:8080/"
        },
        "outputId": "37afe7da-c590-4d69-8fb4-7f10a62c716a"
      },
      "outputs": [
        {
          "output_type": "stream",
          "name": "stdout",
          "text": [
            "[INFO] loading images...\n"
          ]
        }
      ],
      "source": [
        "# grab all image paths in the input dataset directory, then initialize\n",
        "# our list of images and corresponding class labels\n",
        "print(\"[INFO] loading images...\")\n",
        "imagePaths = paths.list_images(\"CK+48\")\n",
        "data = []\n",
        "labels = []"
      ]
    },
    {
      "cell_type": "code",
      "execution_count": null,
      "metadata": {
        "id": "cBhdyiITWD1o"
      },
      "outputs": [],
      "source": [
        "for imagePath in imagePaths:\n",
        "  image = Image.open(imagePath)\n",
        "  image = np.array(image.resize((64, 64))) / 255.0\n",
        "  data.append(image)\n",
        "  label = imagePath.split(os.path.sep)[-2]\n",
        "  labels.append(label)"
      ]
    },
    {
      "cell_type": "code",
      "execution_count": null,
      "metadata": {
        "id": "uEeyOnRdcbdB",
        "colab": {
          "base_uri": "https://localhost:8080/"
        },
        "outputId": "aad2dfa9-cf71-4063-cf56-8e26b3eb9036"
      },
      "outputs": [
        {
          "output_type": "execute_result",
          "data": {
            "text/plain": [
              "(1754,)"
            ]
          },
          "metadata": {},
          "execution_count": 8
        }
      ],
      "source": [
        "np.array(labels).shape"
      ]
    },
    {
      "cell_type": "code",
      "execution_count": null,
      "metadata": {
        "id": "zlBVvRMxWM4M",
        "colab": {
          "base_uri": "https://localhost:8080/"
        },
        "outputId": "87e87232-58b6-4ec7-ce38-7358568abdc4"
      },
      "outputs": [
        {
          "output_type": "stream",
          "name": "stdout",
          "text": [
            "['surprise', 'surprise', 'surprise', 'surprise', 'surprise', 'surprise', 'surprise', 'surprise', 'surprise', 'surprise', 'surprise', 'surprise', 'surprise', 'surprise', 'surprise', 'surprise', 'surprise', 'surprise', 'surprise', 'surprise', 'surprise', 'surprise', 'surprise', 'surprise', 'surprise', 'surprise', 'surprise', 'surprise', 'surprise', 'surprise', 'surprise', 'surprise', 'surprise', 'surprise', 'surprise', 'surprise', 'surprise', 'surprise', 'surprise', 'surprise', 'surprise', 'surprise', 'surprise', 'surprise', 'surprise', 'surprise', 'surprise', 'surprise', 'surprise', 'surprise', 'surprise', 'surprise', 'surprise', 'surprise', 'surprise', 'surprise', 'surprise', 'surprise', 'surprise', 'surprise', 'surprise', 'surprise', 'surprise', 'surprise', 'surprise', 'surprise', 'surprise', 'surprise', 'surprise', 'surprise', 'surprise', 'surprise', 'surprise', 'surprise', 'surprise', 'surprise', 'surprise', 'surprise', 'surprise', 'surprise', 'surprise', 'surprise', 'surprise', 'surprise', 'surprise', 'surprise', 'surprise', 'surprise', 'surprise', 'surprise', 'surprise', 'surprise', 'surprise', 'surprise', 'surprise', 'surprise', 'surprise', 'surprise', 'surprise', 'surprise', 'surprise', 'surprise', 'surprise', 'surprise', 'surprise', 'surprise', 'surprise', 'surprise', 'surprise', 'surprise', 'surprise', 'surprise', 'surprise', 'surprise', 'surprise', 'surprise', 'surprise', 'surprise', 'surprise', 'surprise', 'surprise', 'surprise', 'surprise', 'surprise', 'surprise', 'surprise', 'surprise', 'surprise', 'surprise', 'surprise', 'surprise', 'surprise', 'surprise', 'surprise', 'surprise', 'surprise', 'surprise', 'surprise', 'surprise', 'surprise', 'surprise', 'surprise', 'surprise', 'surprise', 'surprise', 'surprise', 'surprise', 'surprise', 'surprise', 'surprise', 'surprise', 'surprise', 'surprise', 'surprise', 'surprise', 'surprise', 'surprise', 'surprise', 'surprise', 'surprise', 'surprise', 'surprise', 'surprise', 'surprise', 'surprise', 'surprise', 'surprise', 'surprise', 'surprise', 'surprise', 'surprise', 'surprise', 'surprise', 'surprise', 'surprise', 'surprise', 'surprise', 'surprise', 'surprise', 'surprise', 'surprise', 'surprise', 'surprise', 'surprise', 'surprise', 'surprise', 'surprise', 'surprise', 'surprise', 'surprise', 'surprise', 'surprise', 'surprise', 'surprise', 'surprise', 'surprise', 'surprise', 'surprise', 'surprise', 'surprise', 'surprise', 'surprise', 'surprise', 'surprise', 'surprise', 'surprise', 'surprise', 'surprise', 'surprise', 'surprise', 'surprise', 'surprise', 'surprise', 'surprise', 'surprise', 'surprise', 'surprise', 'surprise', 'surprise', 'surprise', 'surprise', 'surprise', 'surprise', 'surprise', 'surprise', 'surprise', 'surprise', 'surprise', 'surprise', 'surprise', 'surprise', 'surprise', 'surprise', 'surprise', 'surprise', 'surprise', 'surprise', 'surprise', 'surprise', 'surprise', 'surprise', 'surprise', 'surprise', 'surprise', 'surprise', 'surprise', 'surprise', 'surprise', 'surprise', 'contempt', 'contempt', 'contempt', 'contempt', 'contempt', 'contempt', 'contempt', 'contempt', 'contempt', 'contempt', 'contempt', 'contempt', 'contempt', 'contempt', 'contempt', 'contempt', 'contempt', 'contempt', 'contempt', 'contempt', 'contempt', 'contempt', 'contempt', 'contempt', 'contempt', 'contempt', 'contempt', 'contempt', 'contempt', 'contempt', 'contempt', 'contempt', 'contempt', 'contempt', 'contempt', 'contempt', 'contempt', 'contempt', 'contempt', 'contempt', 'contempt', 'contempt', 'contempt', 'contempt', 'contempt', 'contempt', 'contempt', 'contempt', 'contempt', 'contempt', 'contempt', 'contempt', 'contempt', 'contempt', 'contempt', 'contempt', 'contempt', 'contempt', 'contempt', 'contempt', 'contempt', 'contempt', 'contempt', 'contempt', 'contempt', 'contempt', 'contempt', 'contempt', 'contempt', 'contempt', 'contempt', 'contempt', 'contempt', 'contempt', 'contempt', 'contempt', 'contempt', 'contempt', 'contempt', 'contempt', 'contempt', 'contempt', 'contempt', 'contempt', 'contempt', 'contempt', 'contempt', 'contempt', 'contempt', 'contempt', 'contempt', 'contempt', 'contempt', 'contempt', 'contempt', 'contempt', 'contempt', 'contempt', 'contempt', 'contempt', 'contempt', 'contempt', 'contempt', 'contempt', 'contempt', 'contempt', 'contempt', 'contempt', 'contempt', 'contempt', 'contempt', 'contempt', 'contempt', 'contempt', 'contempt', 'contempt', 'contempt', 'contempt', 'contempt', 'contempt', 'contempt', 'contempt', 'contempt', 'contempt', 'contempt', 'contempt', 'contempt', 'contempt', 'contempt', 'contempt', 'contempt', 'contempt', 'contempt', 'contempt', 'contempt', 'contempt', 'contempt', 'contempt', 'contempt', 'contempt', 'contempt', 'contempt', 'contempt', 'contempt', 'contempt', 'contempt', 'contempt', 'contempt', 'contempt', 'contempt', 'contempt', 'contempt', 'contempt', 'contempt', 'contempt', 'contempt', 'contempt', 'contempt', 'contempt', 'contempt', 'contempt', 'contempt', 'contempt', 'contempt', 'contempt', 'contempt', 'contempt', 'contempt', 'contempt', 'contempt', 'contempt', 'contempt', 'contempt', 'contempt', 'contempt', 'contempt', 'contempt', 'contempt', 'contempt', 'contempt', 'contempt', 'contempt', 'contempt', 'contempt', 'contempt', 'contempt', 'contempt', 'contempt', 'contempt', 'contempt', 'contempt', 'contempt', 'contempt', 'contempt', 'contempt', 'contempt', 'contempt', 'contempt', 'contempt', 'contempt', 'contempt', 'contempt', 'contempt', 'contempt', 'contempt', 'contempt', 'contempt', 'contempt', 'contempt', 'contempt', 'contempt', 'contempt', 'contempt', 'contempt', 'contempt', 'contempt', 'contempt', 'contempt', 'contempt', 'contempt', 'contempt', 'contempt', 'contempt', 'contempt', 'contempt', 'contempt', 'contempt', 'contempt', 'contempt', 'contempt', 'contempt', 'contempt', 'contempt', 'contempt', 'contempt', 'contempt', 'contempt', 'contempt', 'contempt', 'contempt', 'contempt', 'contempt', 'contempt', 'contempt', 'contempt', 'contempt', 'contempt', 'contempt', 'contempt', 'contempt', 'happy', 'happy', 'happy', 'happy', 'happy', 'happy', 'happy', 'happy', 'happy', 'happy', 'happy', 'happy', 'happy', 'happy', 'happy', 'happy', 'happy', 'happy', 'happy', 'happy', 'happy', 'happy', 'happy', 'happy', 'happy', 'happy', 'happy', 'happy', 'happy', 'happy', 'happy', 'happy', 'happy', 'happy', 'happy', 'happy', 'happy', 'happy', 'happy', 'happy', 'happy', 'happy', 'happy', 'happy', 'happy', 'happy', 'happy', 'happy', 'happy', 'happy', 'happy', 'happy', 'happy', 'happy', 'happy', 'happy', 'happy', 'happy', 'happy', 'happy', 'happy', 'happy', 'happy', 'happy', 'happy', 'happy', 'happy', 'happy', 'happy', 'happy', 'happy', 'happy', 'happy', 'happy', 'happy', 'happy', 'happy', 'happy', 'happy', 'happy', 'happy', 'happy', 'happy', 'happy', 'happy', 'happy', 'happy', 'happy', 'happy', 'happy', 'happy', 'happy', 'happy', 'happy', 'happy', 'happy', 'happy', 'happy', 'happy', 'happy', 'happy', 'happy', 'happy', 'happy', 'happy', 'happy', 'happy', 'happy', 'happy', 'happy', 'happy', 'happy', 'happy', 'happy', 'happy', 'happy', 'happy', 'happy', 'happy', 'happy', 'happy', 'happy', 'happy', 'happy', 'happy', 'happy', 'happy', 'happy', 'happy', 'happy', 'happy', 'happy', 'happy', 'happy', 'happy', 'happy', 'happy', 'happy', 'happy', 'happy', 'happy', 'happy', 'happy', 'happy', 'happy', 'happy', 'happy', 'happy', 'happy', 'happy', 'happy', 'happy', 'happy', 'happy', 'happy', 'happy', 'happy', 'happy', 'happy', 'happy', 'happy', 'happy', 'happy', 'happy', 'happy', 'happy', 'happy', 'happy', 'happy', 'happy', 'happy', 'happy', 'happy', 'happy', 'happy', 'happy', 'happy', 'happy', 'happy', 'happy', 'happy', 'happy', 'happy', 'happy', 'happy', 'happy', 'happy', 'happy', 'happy', 'happy', 'happy', 'happy', 'happy', 'happy', 'happy', 'happy', 'happy', 'happy', 'happy', 'happy', 'happy', 'happy', 'happy', 'happy', 'happy', 'happy', 'happy', 'happy', 'happy', 'happy', 'happy', 'happy', 'happy', 'happy', 'happy', 'happy', 'happy', 'happy', 'happy', 'happy', 'happy', 'happy', 'happy', 'happy', 'happy', 'happy', 'happy', 'happy', 'happy', 'happy', 'happy', 'happy', 'happy', 'happy', 'happy', 'happy', 'happy', 'happy', 'happy', 'happy', 'happy', 'happy', 'happy', 'happy', 'happy', 'happy', 'happy', 'happy', 'happy', 'happy', 'happy', 'happy', 'sadness', 'sadness', 'sadness', 'sadness', 'sadness', 'sadness', 'sadness', 'sadness', 'sadness', 'sadness', 'sadness', 'sadness', 'sadness', 'sadness', 'sadness', 'sadness', 'sadness', 'sadness', 'sadness', 'sadness', 'sadness', 'sadness', 'sadness', 'sadness', 'sadness', 'sadness', 'sadness', 'sadness', 'sadness', 'sadness', 'sadness', 'sadness', 'sadness', 'sadness', 'sadness', 'sadness', 'sadness', 'sadness', 'sadness', 'sadness', 'sadness', 'sadness', 'sadness', 'sadness', 'sadness', 'sadness', 'sadness', 'sadness', 'sadness', 'sadness', 'sadness', 'sadness', 'sadness', 'sadness', 'sadness', 'sadness', 'sadness', 'sadness', 'sadness', 'sadness', 'sadness', 'sadness', 'sadness', 'sadness', 'sadness', 'sadness', 'sadness', 'sadness', 'sadness', 'sadness', 'sadness', 'sadness', 'sadness', 'sadness', 'sadness', 'sadness', 'sadness', 'sadness', 'sadness', 'sadness', 'sadness', 'sadness', 'sadness', 'sadness', 'sadness', 'sadness', 'sadness', 'sadness', 'sadness', 'sadness', 'sadness', 'sadness', 'sadness', 'sadness', 'sadness', 'sadness', 'sadness', 'sadness', 'sadness', 'sadness', 'sadness', 'sadness', 'sadness', 'sadness', 'sadness', 'sadness', 'sadness', 'sadness', 'sadness', 'sadness', 'sadness', 'sadness', 'sadness', 'sadness', 'sadness', 'sadness', 'sadness', 'sadness', 'sadness', 'sadness', 'sadness', 'sadness', 'sadness', 'sadness', 'sadness', 'sadness', 'sadness', 'sadness', 'sadness', 'sadness', 'sadness', 'sadness', 'sadness', 'sadness', 'sadness', 'sadness', 'sadness', 'sadness', 'sadness', 'sadness', 'sadness', 'sadness', 'sadness', 'sadness', 'sadness', 'sadness', 'sadness', 'sadness', 'sadness', 'sadness', 'sadness', 'sadness', 'sadness', 'sadness', 'sadness', 'sadness', 'sadness', 'sadness', 'sadness', 'sadness', 'sadness', 'sadness', 'sadness', 'sadness', 'sadness', 'sadness', 'sadness', 'sadness', 'sadness', 'sadness', 'sadness', 'sadness', 'sadness', 'sadness', 'sadness', 'sadness', 'sadness', 'sadness', 'sadness', 'sadness', 'sadness', 'sadness', 'sadness', 'sadness', 'sadness', 'sadness', 'sadness', 'sadness', 'sadness', 'sadness', 'sadness', 'sadness', 'sadness', 'sadness', 'sadness', 'sadness', 'sadness', 'sadness', 'sadness', 'sadness', 'sadness', 'sadness', 'sadness', 'sadness', 'sadness', 'sadness', 'sadness', 'sadness', 'sadness', 'sadness', 'sadness', 'sadness', 'sadness', 'sadness', 'sadness', 'sadness', 'sadness', 'sadness', 'sadness', 'sadness', 'sadness', 'sadness', 'sadness', 'sadness', 'sadness', 'sadness', 'sadness', 'sadness', 'sadness', 'sadness', 'sadness', 'sadness', 'sadness', 'sadness', 'sadness', 'sadness', 'sadness', 'sadness', 'sadness', 'sadness', 'sadness', 'sadness', 'sadness', 'sadness', 'sadness', 'sadness', 'sadness', 'sadness', 'sadness', 'sadness', 'anger', 'anger', 'anger', 'anger', 'anger', 'anger', 'anger', 'anger', 'anger', 'anger', 'anger', 'anger', 'anger', 'anger', 'anger', 'anger', 'anger', 'anger', 'anger', 'anger', 'anger', 'anger', 'anger', 'anger', 'anger', 'anger', 'anger', 'anger', 'anger', 'anger', 'anger', 'anger', 'anger', 'anger', 'anger', 'anger', 'anger', 'anger', 'anger', 'anger', 'anger', 'anger', 'anger', 'anger', 'anger', 'anger', 'anger', 'anger', 'anger', 'anger', 'anger', 'anger', 'anger', 'anger', 'anger', 'anger', 'anger', 'anger', 'anger', 'anger', 'anger', 'anger', 'anger', 'anger', 'anger', 'anger', 'anger', 'anger', 'anger', 'anger', 'anger', 'anger', 'anger', 'anger', 'anger', 'anger', 'anger', 'anger', 'anger', 'anger', 'anger', 'anger', 'anger', 'anger', 'anger', 'anger', 'anger', 'anger', 'anger', 'anger', 'anger', 'anger', 'anger', 'anger', 'anger', 'anger', 'anger', 'anger', 'anger', 'anger', 'anger', 'anger', 'anger', 'anger', 'anger', 'anger', 'anger', 'anger', 'anger', 'anger', 'anger', 'anger', 'anger', 'anger', 'anger', 'anger', 'anger', 'anger', 'anger', 'anger', 'anger', 'anger', 'anger', 'anger', 'anger', 'anger', 'anger', 'anger', 'anger', 'anger', 'anger', 'anger', 'anger', 'anger', 'anger', 'anger', 'anger', 'anger', 'anger', 'anger', 'anger', 'anger', 'anger', 'anger', 'anger', 'anger', 'anger', 'anger', 'anger', 'anger', 'anger', 'anger', 'anger', 'anger', 'anger', 'anger', 'anger', 'anger', 'anger', 'anger', 'anger', 'anger', 'anger', 'anger', 'anger', 'anger', 'anger', 'anger', 'anger', 'anger', 'anger', 'anger', 'anger', 'anger', 'anger', 'anger', 'anger', 'anger', 'anger', 'anger', 'anger', 'anger', 'anger', 'anger', 'anger', 'anger', 'anger', 'anger', 'anger', 'anger', 'anger', 'anger', 'anger', 'anger', 'anger', 'anger', 'anger', 'anger', 'anger', 'anger', 'anger', 'anger', 'anger', 'anger', 'anger', 'anger', 'anger', 'anger', 'anger', 'anger', 'anger', 'anger', 'anger', 'anger', 'anger', 'anger', 'anger', 'anger', 'anger', 'anger', 'anger', 'anger', 'anger', 'anger', 'anger', 'anger', 'anger', 'anger', 'anger', 'anger', 'anger', 'anger', 'anger', 'anger', 'anger', 'anger', 'anger', 'anger', 'anger', 'anger', 'anger', 'anger', 'anger', 'anger', 'anger', 'anger', 'anger', 'anger', 'anger', 'anger', 'anger', 'fear', 'fear', 'fear', 'fear', 'fear', 'fear', 'fear', 'fear', 'fear', 'fear', 'fear', 'fear', 'fear', 'fear', 'fear', 'fear', 'fear', 'fear', 'fear', 'fear', 'fear', 'fear', 'fear', 'fear', 'fear', 'fear', 'fear', 'fear', 'fear', 'fear', 'fear', 'fear', 'fear', 'fear', 'fear', 'fear', 'fear', 'fear', 'fear', 'fear', 'fear', 'fear', 'fear', 'fear', 'fear', 'fear', 'fear', 'fear', 'fear', 'fear', 'fear', 'fear', 'fear', 'fear', 'fear', 'fear', 'fear', 'fear', 'fear', 'fear', 'fear', 'fear', 'fear', 'fear', 'fear', 'fear', 'fear', 'fear', 'fear', 'fear', 'fear', 'fear', 'fear', 'fear', 'fear', 'fear', 'fear', 'fear', 'fear', 'fear', 'fear', 'fear', 'fear', 'fear', 'fear', 'fear', 'fear', 'fear', 'fear', 'fear', 'fear', 'fear', 'fear', 'fear', 'fear', 'fear', 'fear', 'fear', 'fear', 'fear', 'fear', 'fear', 'fear', 'fear', 'fear', 'fear', 'fear', 'fear', 'fear', 'fear', 'fear', 'fear', 'fear', 'fear', 'fear', 'fear', 'fear', 'fear', 'fear', 'fear', 'fear', 'fear', 'fear', 'fear', 'fear', 'fear', 'fear', 'fear', 'fear', 'fear', 'fear', 'fear', 'fear', 'fear', 'fear', 'fear', 'fear', 'fear', 'fear', 'fear', 'fear', 'fear', 'fear', 'fear', 'fear', 'fear', 'fear', 'fear', 'fear', 'fear', 'fear', 'fear', 'fear', 'fear', 'fear', 'fear', 'fear', 'fear', 'fear', 'fear', 'fear', 'fear', 'fear', 'fear', 'fear', 'fear', 'fear', 'fear', 'fear', 'fear', 'fear', 'fear', 'fear', 'fear', 'fear', 'fear', 'fear', 'fear', 'fear', 'fear', 'fear', 'fear', 'fear', 'fear', 'fear', 'fear', 'fear', 'fear', 'fear', 'fear', 'fear', 'fear', 'fear', 'fear', 'fear', 'fear', 'fear', 'fear', 'fear', 'fear', 'fear', 'fear', 'fear', 'fear', 'fear', 'fear', 'fear', 'fear', 'fear', 'fear', 'fear', 'fear', 'fear', 'fear', 'fear', 'fear', 'fear', 'fear', 'fear', 'fear', 'fear', 'fear', 'fear', 'fear', 'fear', 'fear', 'fear', 'fear', 'fear', 'fear', 'fear', 'fear', 'fear', 'fear', 'fear', 'fear', 'fear', 'fear', 'fear', 'fear', 'fear', 'fear', 'fear', 'fear', 'fear', 'fear', 'fear', 'fear', 'fear', 'fear', 'fear', 'fear', 'disgust', 'disgust', 'disgust', 'disgust', 'disgust', 'disgust', 'disgust', 'disgust', 'disgust', 'disgust', 'disgust', 'disgust', 'disgust', 'disgust', 'disgust', 'disgust', 'disgust', 'disgust', 'disgust', 'disgust', 'disgust', 'disgust', 'disgust', 'disgust', 'disgust', 'disgust', 'disgust', 'disgust', 'disgust', 'disgust', 'disgust', 'disgust', 'disgust', 'disgust', 'disgust', 'disgust', 'disgust', 'disgust', 'disgust', 'disgust', 'disgust', 'disgust', 'disgust', 'disgust', 'disgust', 'disgust', 'disgust', 'disgust', 'disgust', 'disgust', 'disgust', 'disgust', 'disgust', 'disgust', 'disgust', 'disgust', 'disgust', 'disgust', 'disgust', 'disgust', 'disgust', 'disgust', 'disgust', 'disgust', 'disgust', 'disgust', 'disgust', 'disgust', 'disgust', 'disgust', 'disgust', 'disgust', 'disgust', 'disgust', 'disgust', 'disgust', 'disgust', 'disgust', 'disgust', 'disgust', 'disgust', 'disgust', 'disgust', 'disgust', 'disgust', 'disgust', 'disgust', 'disgust', 'disgust', 'disgust', 'disgust', 'disgust', 'disgust', 'disgust', 'disgust', 'disgust', 'disgust', 'disgust', 'disgust', 'disgust', 'disgust', 'disgust', 'disgust', 'disgust', 'disgust', 'disgust', 'disgust', 'disgust', 'disgust', 'disgust', 'disgust', 'disgust', 'disgust', 'disgust', 'disgust', 'disgust', 'disgust', 'disgust', 'disgust', 'disgust', 'disgust', 'disgust', 'disgust', 'disgust', 'disgust', 'disgust', 'disgust', 'disgust', 'disgust', 'disgust', 'disgust', 'disgust', 'disgust', 'disgust', 'disgust', 'disgust', 'disgust', 'disgust', 'disgust', 'disgust', 'disgust', 'disgust', 'disgust', 'disgust', 'disgust', 'disgust', 'disgust', 'disgust', 'disgust', 'disgust', 'disgust', 'disgust', 'disgust', 'disgust', 'disgust', 'disgust', 'disgust', 'disgust', 'disgust', 'disgust', 'disgust', 'disgust', 'disgust', 'disgust', 'disgust', 'disgust', 'disgust', 'disgust', 'disgust', 'disgust', 'disgust', 'disgust', 'disgust', 'disgust', 'disgust', 'disgust', 'disgust', 'disgust', 'disgust', 'disgust', 'disgust', 'disgust', 'disgust', 'disgust', 'disgust', 'disgust', 'disgust', 'disgust', 'disgust', 'disgust', 'disgust', 'disgust', 'disgust', 'disgust', 'disgust', 'disgust', 'disgust', 'disgust', 'disgust', 'disgust', 'disgust', 'disgust', 'disgust', 'disgust', 'disgust', 'disgust', 'disgust', 'disgust', 'disgust', 'disgust', 'disgust', 'disgust', 'disgust', 'disgust', 'disgust', 'disgust', 'disgust', 'disgust', 'disgust', 'disgust', 'disgust', 'disgust', 'disgust', 'disgust', 'disgust', 'disgust', 'disgust', 'disgust', 'disgust', 'disgust', 'disgust', 'disgust', 'disgust', 'disgust', 'disgust', 'disgust', 'disgust', 'disgust', 'disgust', 'disgust', 'disgust', 'disgust', 'disgust', 'disgust', 'disgust', 'disgust', 'disgust', 'disgust', 'disgust', 'disgust']\n"
          ]
        }
      ],
      "source": [
        "print(labels)"
      ]
    },
    {
      "cell_type": "code",
      "execution_count": null,
      "metadata": {
        "id": "K6gHdm56dluY",
        "colab": {
          "base_uri": "https://localhost:8080/"
        },
        "outputId": "c1eda62d-26b0-476e-f786-4b1bd5c42461"
      },
      "outputs": [
        {
          "output_type": "execute_result",
          "data": {
            "text/plain": [
              "(1754, 64, 64)"
            ]
          },
          "metadata": {},
          "execution_count": 10
        }
      ],
      "source": [
        "np.array(data).shape"
      ]
    },
    {
      "cell_type": "code",
      "execution_count": null,
      "metadata": {
        "id": "edwOaHoRYvk5"
      },
      "outputs": [],
      "source": [
        "# data=np.squeeze(data,axis=1)"
      ]
    },
    {
      "cell_type": "code",
      "execution_count": null,
      "metadata": {
        "id": "BCiv85VlZIsr",
        "colab": {
          "base_uri": "https://localhost:8080/"
        },
        "outputId": "5de8aba5-faf2-4a92-9d16-fc6b4d0e44ef"
      },
      "outputs": [
        {
          "output_type": "execute_result",
          "data": {
            "text/plain": [
              "(1754, 64, 64, 1)"
            ]
          },
          "metadata": {},
          "execution_count": 12
        }
      ],
      "source": [
        "data=np.expand_dims(data,axis=3)\n",
        "data.shape"
      ]
    },
    {
      "cell_type": "code",
      "execution_count": null,
      "metadata": {
        "id": "Ch9QSikWW6n4",
        "colab": {
          "base_uri": "https://localhost:8080/"
        },
        "outputId": "2be029d3-31e3-4794-f48a-61ab5f5a8c72"
      },
      "outputs": [
        {
          "output_type": "stream",
          "name": "stdout",
          "text": [
            "(1315, 64, 64, 1)\n",
            "(439, 64, 64, 1)\n"
          ]
        }
      ],
      "source": [
        "# perform a training and testing split, using 75% of the data for\n",
        "# training and 25% for evaluation\n",
        "(trainX, testX, trainY, testY) = train_test_split(np.array(data),\n",
        "\tnp.array(labels), test_size=0.25)\n",
        "print(trainX.shape)\n",
        "print(testX.shape)"
      ]
    },
    {
      "cell_type": "code",
      "execution_count": null,
      "metadata": {
        "id": "b5xJMCxDcOuO",
        "colab": {
          "base_uri": "https://localhost:8080/"
        },
        "outputId": "eb320b6a-489c-4c98-ea25-1b0cd55e5c2b"
      },
      "outputs": [
        {
          "output_type": "execute_result",
          "data": {
            "text/plain": [
              "(1315,)"
            ]
          },
          "metadata": {},
          "execution_count": 14
        }
      ],
      "source": [
        "trainY.shape"
      ]
    },
    {
      "cell_type": "code",
      "execution_count": null,
      "metadata": {
        "id": "4ei-QmoJJ8-3",
        "colab": {
          "base_uri": "https://localhost:8080/"
        },
        "outputId": "122f29c7-80c6-46aa-d3d5-c8cf6af7f9ac"
      },
      "outputs": [
        {
          "output_type": "stream",
          "name": "stdout",
          "text": [
            "[[0 0 0 ... 0 1 0]\n",
            " [0 0 0 ... 0 1 0]\n",
            " [0 0 0 ... 0 0 0]\n",
            " ...\n",
            " [0 0 0 ... 0 0 0]\n",
            " [0 0 1 ... 0 0 0]\n",
            " [0 0 0 ... 0 1 0]]\n"
          ]
        }
      ],
      "source": [
        "from sklearn.preprocessing import LabelBinarizer\n",
        "encoder = LabelBinarizer()\n",
        "trainY = encoder.fit_transform(trainY)\n",
        "testY = encoder.fit_transform(testY)\n",
        "print(testY)"
      ]
    },
    {
      "cell_type": "code",
      "execution_count": null,
      "metadata": {
        "id": "jOJP7t3KW1FS"
      },
      "outputs": [],
      "source": [
        "# encode the labels, converting them from strings to integers\n",
        "lb = LabelBinarizer()\n",
        "labels = lb.fit_transform(labels)"
      ]
    },
    {
      "cell_type": "code",
      "execution_count": null,
      "metadata": {
        "colab": {
          "base_uri": "https://localhost:8080/"
        },
        "id": "00PD5FsTW3or",
        "outputId": "306af7eb-dce8-4fc6-a28e-fdaf0de59178"
      },
      "outputs": [
        {
          "output_type": "stream",
          "name": "stdout",
          "text": [
            "[[0 0 0 ... 0 0 1]\n",
            " [0 0 0 ... 0 0 1]\n",
            " [0 0 0 ... 0 0 1]\n",
            " ...\n",
            " [0 0 1 ... 0 0 0]\n",
            " [0 0 1 ... 0 0 0]\n",
            " [0 0 1 ... 0 0 0]]\n"
          ]
        }
      ],
      "source": [
        "print(labels)"
      ]
    },
    {
      "cell_type": "code",
      "execution_count": null,
      "metadata": {
        "id": "3142yrUYW8v0"
      },
      "outputs": [],
      "source": [
        "# #MODEL 1\n",
        "# # define our Convolutional Neural Network architecture\n",
        "# model = Sequential()\n",
        "# model.add(Conv2D(64, (3, 3), padding=\"same\", input_shape=(32, 32, 3)))\n",
        "# model.add(Activation(\"relu\"))\n",
        "# model.add(MaxPooling2D(pool_size=(2, 2), strides=(2, 2)))\n",
        "\n",
        "# model.add(Conv2D(32, (3, 3), padding=\"same\"))\n",
        "# model.add(Activation(\"relu\"))\n",
        "# model.add(MaxPooling2D(pool_size=(2, 2), strides=(2, 2)))\n",
        "\n",
        "# model.add(Conv2D(16, (3, 3), padding=\"same\"))\n",
        "# model.add(Activation(\"relu\"))\n",
        "# model.add(MaxPooling2D(pool_size=(2, 2), strides=(2, 2)))\n",
        "\n",
        "# model.add(Flatten())\n",
        "# model.add(Dense(4))\n",
        "# model.add(Activation(\"softmax\"))"
      ]
    },
    {
      "cell_type": "code",
      "execution_count": null,
      "metadata": {
        "colab": {
          "base_uri": "https://localhost:8080/"
        },
        "id": "HZWbaoZOSGXA",
        "outputId": "9695cdd5-d59f-4e5f-b7f5-41e108d363ca"
      },
      "outputs": [
        {
          "output_type": "stream",
          "name": "stdout",
          "text": [
            "Requirement already satisfied: efficientnet in /usr/local/lib/python3.7/dist-packages (1.1.1)\n",
            "Requirement already satisfied: keras-applications<=1.0.8,>=1.0.7 in /usr/local/lib/python3.7/dist-packages (from efficientnet) (1.0.8)\n",
            "Requirement already satisfied: scikit-image in /usr/local/lib/python3.7/dist-packages (from efficientnet) (0.18.3)\n",
            "Requirement already satisfied: h5py in /usr/local/lib/python3.7/dist-packages (from keras-applications<=1.0.8,>=1.0.7->efficientnet) (3.1.0)\n",
            "Requirement already satisfied: numpy>=1.9.1 in /usr/local/lib/python3.7/dist-packages (from keras-applications<=1.0.8,>=1.0.7->efficientnet) (1.19.5)\n",
            "Requirement already satisfied: cached-property in /usr/local/lib/python3.7/dist-packages (from h5py->keras-applications<=1.0.8,>=1.0.7->efficientnet) (1.5.2)\n",
            "Requirement already satisfied: imageio>=2.3.0 in /usr/local/lib/python3.7/dist-packages (from scikit-image->efficientnet) (2.4.1)\n",
            "Requirement already satisfied: scipy>=1.0.1 in /usr/local/lib/python3.7/dist-packages (from scikit-image->efficientnet) (1.4.1)\n",
            "Requirement already satisfied: matplotlib!=3.0.0,>=2.0.0 in /usr/local/lib/python3.7/dist-packages (from scikit-image->efficientnet) (3.2.2)\n",
            "Requirement already satisfied: networkx>=2.0 in /usr/local/lib/python3.7/dist-packages (from scikit-image->efficientnet) (2.6.3)\n",
            "Requirement already satisfied: tifffile>=2019.7.26 in /usr/local/lib/python3.7/dist-packages (from scikit-image->efficientnet) (2021.11.2)\n",
            "Requirement already satisfied: pillow!=7.1.0,!=7.1.1,>=4.3.0 in /usr/local/lib/python3.7/dist-packages (from scikit-image->efficientnet) (7.1.2)\n",
            "Requirement already satisfied: PyWavelets>=1.1.1 in /usr/local/lib/python3.7/dist-packages (from scikit-image->efficientnet) (1.2.0)\n",
            "Requirement already satisfied: cycler>=0.10 in /usr/local/lib/python3.7/dist-packages (from matplotlib!=3.0.0,>=2.0.0->scikit-image->efficientnet) (0.11.0)\n",
            "Requirement already satisfied: kiwisolver>=1.0.1 in /usr/local/lib/python3.7/dist-packages (from matplotlib!=3.0.0,>=2.0.0->scikit-image->efficientnet) (1.3.2)\n",
            "Requirement already satisfied: python-dateutil>=2.1 in /usr/local/lib/python3.7/dist-packages (from matplotlib!=3.0.0,>=2.0.0->scikit-image->efficientnet) (2.8.2)\n",
            "Requirement already satisfied: pyparsing!=2.0.4,!=2.1.2,!=2.1.6,>=2.0.1 in /usr/local/lib/python3.7/dist-packages (from matplotlib!=3.0.0,>=2.0.0->scikit-image->efficientnet) (3.0.6)\n",
            "Requirement already satisfied: six>=1.5 in /usr/local/lib/python3.7/dist-packages (from python-dateutil>=2.1->matplotlib!=3.0.0,>=2.0.0->scikit-image->efficientnet) (1.15.0)\n"
          ]
        }
      ],
      "source": [
        "!pip install -U --pre efficientnet"
      ]
    },
    {
      "cell_type": "code",
      "execution_count": null,
      "metadata": {
        "id": "MPdELQPeSJbU"
      },
      "outputs": [],
      "source": [
        "from efficientnet.tfkeras import EfficientNetB0, EfficientNetB1, EfficientNetB2, EfficientNetB3, EfficientNetB4, EfficientNetB5, EfficientNetB6, EfficientNetB7\n",
        "# from tensorflow.keras.applications.efficientnet import EfficientNetB0, EfficientNetB1, EfficientNetB2, EfficientNetB3, EfficientNetB4, EfficientNetB5, EfficientNetB6, EfficientNetB7"
      ]
    },
    {
      "cell_type": "code",
      "execution_count": null,
      "metadata": {
        "id": "qOmloaEDaF8O"
      },
      "outputs": [],
      "source": [
        "import tensorflow as tf\n",
        "base_model=tf.keras.applications.efficientnet.EfficientNetB0(\n",
        "    include_top=False,\n",
        "    weights='imagenet',\n",
        "    input_shape=None,\n",
        "    classes=7\n",
        ")"
      ]
    },
    {
      "cell_type": "code",
      "execution_count": null,
      "metadata": {
        "id": "dakIOSSsSOJ0"
      },
      "outputs": [],
      "source": [
        "# # get base models\n",
        "# base_model = EfficientNetB0(\n",
        "#     input_shape=(64,64,1),\n",
        "#     include_top=True,\n",
        "#     weights='noisy-student',\n",
        "#     classes=7,\n",
        "# )"
      ]
    },
    {
      "cell_type": "code",
      "execution_count": null,
      "metadata": {
        "id": "S0UDDaY3SWFH"
      },
      "outputs": [],
      "source": [
        "from tensorflow.keras import layers,Sequential\n",
        "from tensorflow.keras.models import Model"
      ]
    },
    {
      "cell_type": "code",
      "execution_count": null,
      "metadata": {
        "id": "SgXowtbBSbrY"
      },
      "outputs": [],
      "source": [
        "#Adding custom layers\n",
        "x = base_model.output\n",
        "x = layers.GlobalAveragePooling2D()(x)\n",
        "x = layers.Dropout(0.5)(x)\n",
        "x = layers.Dense(1024, activation=\"relu\")(x)\n",
        "\n",
        "predictions = layers.Dense(7, activation=\"softmax\")(x)\n",
        "model = Model(inputs=base_model.input, outputs=predictions)"
      ]
    },
    {
      "cell_type": "code",
      "execution_count": null,
      "metadata": {
        "colab": {
          "base_uri": "https://localhost:8080/"
        },
        "id": "-0PCCn6abzvY",
        "outputId": "acebabc6-532c-4d27-db76-fd62638e0299"
      },
      "outputs": [
        {
          "output_type": "execute_result",
          "data": {
            "text/plain": [
              "(1754, 7)"
            ]
          },
          "metadata": {},
          "execution_count": 25
        }
      ],
      "source": [
        "labels.shape"
      ]
    },
    {
      "cell_type": "code",
      "execution_count": null,
      "metadata": {
        "colab": {
          "base_uri": "https://localhost:8080/"
        },
        "id": "1_EhHUARSdxw",
        "outputId": "c6c5a7f6-3eef-4cfb-b718-0027c7e1b39a"
      },
      "outputs": [
        {
          "output_type": "stream",
          "name": "stdout",
          "text": [
            "Model: \"model\"\n",
            "__________________________________________________________________________________________________\n",
            " Layer (type)                   Output Shape         Param #     Connected to                     \n",
            "==================================================================================================\n",
            " input_1 (InputLayer)           [(None, None, None,  0           []                               \n",
            "                                 3)]                                                              \n",
            "                                                                                                  \n",
            " rescaling (Rescaling)          (None, None, None,   0           ['input_1[0][0]']                \n",
            "                                3)                                                                \n",
            "                                                                                                  \n",
            " normalization (Normalization)  (None, None, None,   7           ['rescaling[0][0]']              \n",
            "                                3)                                                                \n",
            "                                                                                                  \n",
            " stem_conv_pad (ZeroPadding2D)  (None, None, None,   0           ['normalization[0][0]']          \n",
            "                                3)                                                                \n",
            "                                                                                                  \n",
            " stem_conv (Conv2D)             (None, None, None,   864         ['stem_conv_pad[0][0]']          \n",
            "                                32)                                                               \n",
            "                                                                                                  \n",
            " stem_bn (BatchNormalization)   (None, None, None,   128         ['stem_conv[0][0]']              \n",
            "                                32)                                                               \n",
            "                                                                                                  \n",
            " stem_activation (Activation)   (None, None, None,   0           ['stem_bn[0][0]']                \n",
            "                                32)                                                               \n",
            "                                                                                                  \n",
            " block1a_dwconv (DepthwiseConv2  (None, None, None,   288        ['stem_activation[0][0]']        \n",
            " D)                             32)                                                               \n",
            "                                                                                                  \n",
            " block1a_bn (BatchNormalization  (None, None, None,   128        ['block1a_dwconv[0][0]']         \n",
            " )                              32)                                                               \n",
            "                                                                                                  \n",
            " block1a_activation (Activation  (None, None, None,   0          ['block1a_bn[0][0]']             \n",
            " )                              32)                                                               \n",
            "                                                                                                  \n",
            " block1a_se_squeeze (GlobalAver  (None, 32)          0           ['block1a_activation[0][0]']     \n",
            " agePooling2D)                                                                                    \n",
            "                                                                                                  \n",
            " block1a_se_reshape (Reshape)   (None, 1, 1, 32)     0           ['block1a_se_squeeze[0][0]']     \n",
            "                                                                                                  \n",
            " block1a_se_reduce (Conv2D)     (None, 1, 1, 8)      264         ['block1a_se_reshape[0][0]']     \n",
            "                                                                                                  \n",
            " block1a_se_expand (Conv2D)     (None, 1, 1, 32)     288         ['block1a_se_reduce[0][0]']      \n",
            "                                                                                                  \n",
            " block1a_se_excite (Multiply)   (None, None, None,   0           ['block1a_activation[0][0]',     \n",
            "                                32)                               'block1a_se_expand[0][0]']      \n",
            "                                                                                                  \n",
            " block1a_project_conv (Conv2D)  (None, None, None,   512         ['block1a_se_excite[0][0]']      \n",
            "                                16)                                                               \n",
            "                                                                                                  \n",
            " block1a_project_bn (BatchNorma  (None, None, None,   64         ['block1a_project_conv[0][0]']   \n",
            " lization)                      16)                                                               \n",
            "                                                                                                  \n",
            " block2a_expand_conv (Conv2D)   (None, None, None,   1536        ['block1a_project_bn[0][0]']     \n",
            "                                96)                                                               \n",
            "                                                                                                  \n",
            " block2a_expand_bn (BatchNormal  (None, None, None,   384        ['block2a_expand_conv[0][0]']    \n",
            " ization)                       96)                                                               \n",
            "                                                                                                  \n",
            " block2a_expand_activation (Act  (None, None, None,   0          ['block2a_expand_bn[0][0]']      \n",
            " ivation)                       96)                                                               \n",
            "                                                                                                  \n",
            " block2a_dwconv_pad (ZeroPaddin  (None, None, None,   0          ['block2a_expand_activation[0][0]\n",
            " g2D)                           96)                              ']                               \n",
            "                                                                                                  \n",
            " block2a_dwconv (DepthwiseConv2  (None, None, None,   864        ['block2a_dwconv_pad[0][0]']     \n",
            " D)                             96)                                                               \n",
            "                                                                                                  \n",
            " block2a_bn (BatchNormalization  (None, None, None,   384        ['block2a_dwconv[0][0]']         \n",
            " )                              96)                                                               \n",
            "                                                                                                  \n",
            " block2a_activation (Activation  (None, None, None,   0          ['block2a_bn[0][0]']             \n",
            " )                              96)                                                               \n",
            "                                                                                                  \n",
            " block2a_se_squeeze (GlobalAver  (None, 96)          0           ['block2a_activation[0][0]']     \n",
            " agePooling2D)                                                                                    \n",
            "                                                                                                  \n",
            " block2a_se_reshape (Reshape)   (None, 1, 1, 96)     0           ['block2a_se_squeeze[0][0]']     \n",
            "                                                                                                  \n",
            " block2a_se_reduce (Conv2D)     (None, 1, 1, 4)      388         ['block2a_se_reshape[0][0]']     \n",
            "                                                                                                  \n",
            " block2a_se_expand (Conv2D)     (None, 1, 1, 96)     480         ['block2a_se_reduce[0][0]']      \n",
            "                                                                                                  \n",
            " block2a_se_excite (Multiply)   (None, None, None,   0           ['block2a_activation[0][0]',     \n",
            "                                96)                               'block2a_se_expand[0][0]']      \n",
            "                                                                                                  \n",
            " block2a_project_conv (Conv2D)  (None, None, None,   2304        ['block2a_se_excite[0][0]']      \n",
            "                                24)                                                               \n",
            "                                                                                                  \n",
            " block2a_project_bn (BatchNorma  (None, None, None,   96         ['block2a_project_conv[0][0]']   \n",
            " lization)                      24)                                                               \n",
            "                                                                                                  \n",
            " block2b_expand_conv (Conv2D)   (None, None, None,   3456        ['block2a_project_bn[0][0]']     \n",
            "                                144)                                                              \n",
            "                                                                                                  \n",
            " block2b_expand_bn (BatchNormal  (None, None, None,   576        ['block2b_expand_conv[0][0]']    \n",
            " ization)                       144)                                                              \n",
            "                                                                                                  \n",
            " block2b_expand_activation (Act  (None, None, None,   0          ['block2b_expand_bn[0][0]']      \n",
            " ivation)                       144)                                                              \n",
            "                                                                                                  \n",
            " block2b_dwconv (DepthwiseConv2  (None, None, None,   1296       ['block2b_expand_activation[0][0]\n",
            " D)                             144)                             ']                               \n",
            "                                                                                                  \n",
            " block2b_bn (BatchNormalization  (None, None, None,   576        ['block2b_dwconv[0][0]']         \n",
            " )                              144)                                                              \n",
            "                                                                                                  \n",
            " block2b_activation (Activation  (None, None, None,   0          ['block2b_bn[0][0]']             \n",
            " )                              144)                                                              \n",
            "                                                                                                  \n",
            " block2b_se_squeeze (GlobalAver  (None, 144)         0           ['block2b_activation[0][0]']     \n",
            " agePooling2D)                                                                                    \n",
            "                                                                                                  \n",
            " block2b_se_reshape (Reshape)   (None, 1, 1, 144)    0           ['block2b_se_squeeze[0][0]']     \n",
            "                                                                                                  \n",
            " block2b_se_reduce (Conv2D)     (None, 1, 1, 6)      870         ['block2b_se_reshape[0][0]']     \n",
            "                                                                                                  \n",
            " block2b_se_expand (Conv2D)     (None, 1, 1, 144)    1008        ['block2b_se_reduce[0][0]']      \n",
            "                                                                                                  \n",
            " block2b_se_excite (Multiply)   (None, None, None,   0           ['block2b_activation[0][0]',     \n",
            "                                144)                              'block2b_se_expand[0][0]']      \n",
            "                                                                                                  \n",
            " block2b_project_conv (Conv2D)  (None, None, None,   3456        ['block2b_se_excite[0][0]']      \n",
            "                                24)                                                               \n",
            "                                                                                                  \n",
            " block2b_project_bn (BatchNorma  (None, None, None,   96         ['block2b_project_conv[0][0]']   \n",
            " lization)                      24)                                                               \n",
            "                                                                                                  \n",
            " block2b_drop (Dropout)         (None, None, None,   0           ['block2b_project_bn[0][0]']     \n",
            "                                24)                                                               \n",
            "                                                                                                  \n",
            " block2b_add (Add)              (None, None, None,   0           ['block2b_drop[0][0]',           \n",
            "                                24)                               'block2a_project_bn[0][0]']     \n",
            "                                                                                                  \n",
            " block3a_expand_conv (Conv2D)   (None, None, None,   3456        ['block2b_add[0][0]']            \n",
            "                                144)                                                              \n",
            "                                                                                                  \n",
            " block3a_expand_bn (BatchNormal  (None, None, None,   576        ['block3a_expand_conv[0][0]']    \n",
            " ization)                       144)                                                              \n",
            "                                                                                                  \n",
            " block3a_expand_activation (Act  (None, None, None,   0          ['block3a_expand_bn[0][0]']      \n",
            " ivation)                       144)                                                              \n",
            "                                                                                                  \n",
            " block3a_dwconv_pad (ZeroPaddin  (None, None, None,   0          ['block3a_expand_activation[0][0]\n",
            " g2D)                           144)                             ']                               \n",
            "                                                                                                  \n",
            " block3a_dwconv (DepthwiseConv2  (None, None, None,   3600       ['block3a_dwconv_pad[0][0]']     \n",
            " D)                             144)                                                              \n",
            "                                                                                                  \n",
            " block3a_bn (BatchNormalization  (None, None, None,   576        ['block3a_dwconv[0][0]']         \n",
            " )                              144)                                                              \n",
            "                                                                                                  \n",
            " block3a_activation (Activation  (None, None, None,   0          ['block3a_bn[0][0]']             \n",
            " )                              144)                                                              \n",
            "                                                                                                  \n",
            " block3a_se_squeeze (GlobalAver  (None, 144)         0           ['block3a_activation[0][0]']     \n",
            " agePooling2D)                                                                                    \n",
            "                                                                                                  \n",
            " block3a_se_reshape (Reshape)   (None, 1, 1, 144)    0           ['block3a_se_squeeze[0][0]']     \n",
            "                                                                                                  \n",
            " block3a_se_reduce (Conv2D)     (None, 1, 1, 6)      870         ['block3a_se_reshape[0][0]']     \n",
            "                                                                                                  \n",
            " block3a_se_expand (Conv2D)     (None, 1, 1, 144)    1008        ['block3a_se_reduce[0][0]']      \n",
            "                                                                                                  \n",
            " block3a_se_excite (Multiply)   (None, None, None,   0           ['block3a_activation[0][0]',     \n",
            "                                144)                              'block3a_se_expand[0][0]']      \n",
            "                                                                                                  \n",
            " block3a_project_conv (Conv2D)  (None, None, None,   5760        ['block3a_se_excite[0][0]']      \n",
            "                                40)                                                               \n",
            "                                                                                                  \n",
            " block3a_project_bn (BatchNorma  (None, None, None,   160        ['block3a_project_conv[0][0]']   \n",
            " lization)                      40)                                                               \n",
            "                                                                                                  \n",
            " block3b_expand_conv (Conv2D)   (None, None, None,   9600        ['block3a_project_bn[0][0]']     \n",
            "                                240)                                                              \n",
            "                                                                                                  \n",
            " block3b_expand_bn (BatchNormal  (None, None, None,   960        ['block3b_expand_conv[0][0]']    \n",
            " ization)                       240)                                                              \n",
            "                                                                                                  \n",
            " block3b_expand_activation (Act  (None, None, None,   0          ['block3b_expand_bn[0][0]']      \n",
            " ivation)                       240)                                                              \n",
            "                                                                                                  \n",
            " block3b_dwconv (DepthwiseConv2  (None, None, None,   6000       ['block3b_expand_activation[0][0]\n",
            " D)                             240)                             ']                               \n",
            "                                                                                                  \n",
            " block3b_bn (BatchNormalization  (None, None, None,   960        ['block3b_dwconv[0][0]']         \n",
            " )                              240)                                                              \n",
            "                                                                                                  \n",
            " block3b_activation (Activation  (None, None, None,   0          ['block3b_bn[0][0]']             \n",
            " )                              240)                                                              \n",
            "                                                                                                  \n",
            " block3b_se_squeeze (GlobalAver  (None, 240)         0           ['block3b_activation[0][0]']     \n",
            " agePooling2D)                                                                                    \n",
            "                                                                                                  \n",
            " block3b_se_reshape (Reshape)   (None, 1, 1, 240)    0           ['block3b_se_squeeze[0][0]']     \n",
            "                                                                                                  \n",
            " block3b_se_reduce (Conv2D)     (None, 1, 1, 10)     2410        ['block3b_se_reshape[0][0]']     \n",
            "                                                                                                  \n",
            " block3b_se_expand (Conv2D)     (None, 1, 1, 240)    2640        ['block3b_se_reduce[0][0]']      \n",
            "                                                                                                  \n",
            " block3b_se_excite (Multiply)   (None, None, None,   0           ['block3b_activation[0][0]',     \n",
            "                                240)                              'block3b_se_expand[0][0]']      \n",
            "                                                                                                  \n",
            " block3b_project_conv (Conv2D)  (None, None, None,   9600        ['block3b_se_excite[0][0]']      \n",
            "                                40)                                                               \n",
            "                                                                                                  \n",
            " block3b_project_bn (BatchNorma  (None, None, None,   160        ['block3b_project_conv[0][0]']   \n",
            " lization)                      40)                                                               \n",
            "                                                                                                  \n",
            " block3b_drop (Dropout)         (None, None, None,   0           ['block3b_project_bn[0][0]']     \n",
            "                                40)                                                               \n",
            "                                                                                                  \n",
            " block3b_add (Add)              (None, None, None,   0           ['block3b_drop[0][0]',           \n",
            "                                40)                               'block3a_project_bn[0][0]']     \n",
            "                                                                                                  \n",
            " block4a_expand_conv (Conv2D)   (None, None, None,   9600        ['block3b_add[0][0]']            \n",
            "                                240)                                                              \n",
            "                                                                                                  \n",
            " block4a_expand_bn (BatchNormal  (None, None, None,   960        ['block4a_expand_conv[0][0]']    \n",
            " ization)                       240)                                                              \n",
            "                                                                                                  \n",
            " block4a_expand_activation (Act  (None, None, None,   0          ['block4a_expand_bn[0][0]']      \n",
            " ivation)                       240)                                                              \n",
            "                                                                                                  \n",
            " block4a_dwconv_pad (ZeroPaddin  (None, None, None,   0          ['block4a_expand_activation[0][0]\n",
            " g2D)                           240)                             ']                               \n",
            "                                                                                                  \n",
            " block4a_dwconv (DepthwiseConv2  (None, None, None,   2160       ['block4a_dwconv_pad[0][0]']     \n",
            " D)                             240)                                                              \n",
            "                                                                                                  \n",
            " block4a_bn (BatchNormalization  (None, None, None,   960        ['block4a_dwconv[0][0]']         \n",
            " )                              240)                                                              \n",
            "                                                                                                  \n",
            " block4a_activation (Activation  (None, None, None,   0          ['block4a_bn[0][0]']             \n",
            " )                              240)                                                              \n",
            "                                                                                                  \n",
            " block4a_se_squeeze (GlobalAver  (None, 240)         0           ['block4a_activation[0][0]']     \n",
            " agePooling2D)                                                                                    \n",
            "                                                                                                  \n",
            " block4a_se_reshape (Reshape)   (None, 1, 1, 240)    0           ['block4a_se_squeeze[0][0]']     \n",
            "                                                                                                  \n",
            " block4a_se_reduce (Conv2D)     (None, 1, 1, 10)     2410        ['block4a_se_reshape[0][0]']     \n",
            "                                                                                                  \n",
            " block4a_se_expand (Conv2D)     (None, 1, 1, 240)    2640        ['block4a_se_reduce[0][0]']      \n",
            "                                                                                                  \n",
            " block4a_se_excite (Multiply)   (None, None, None,   0           ['block4a_activation[0][0]',     \n",
            "                                240)                              'block4a_se_expand[0][0]']      \n",
            "                                                                                                  \n",
            " block4a_project_conv (Conv2D)  (None, None, None,   19200       ['block4a_se_excite[0][0]']      \n",
            "                                80)                                                               \n",
            "                                                                                                  \n",
            " block4a_project_bn (BatchNorma  (None, None, None,   320        ['block4a_project_conv[0][0]']   \n",
            " lization)                      80)                                                               \n",
            "                                                                                                  \n",
            " block4b_expand_conv (Conv2D)   (None, None, None,   38400       ['block4a_project_bn[0][0]']     \n",
            "                                480)                                                              \n",
            "                                                                                                  \n",
            " block4b_expand_bn (BatchNormal  (None, None, None,   1920       ['block4b_expand_conv[0][0]']    \n",
            " ization)                       480)                                                              \n",
            "                                                                                                  \n",
            " block4b_expand_activation (Act  (None, None, None,   0          ['block4b_expand_bn[0][0]']      \n",
            " ivation)                       480)                                                              \n",
            "                                                                                                  \n",
            " block4b_dwconv (DepthwiseConv2  (None, None, None,   4320       ['block4b_expand_activation[0][0]\n",
            " D)                             480)                             ']                               \n",
            "                                                                                                  \n",
            " block4b_bn (BatchNormalization  (None, None, None,   1920       ['block4b_dwconv[0][0]']         \n",
            " )                              480)                                                              \n",
            "                                                                                                  \n",
            " block4b_activation (Activation  (None, None, None,   0          ['block4b_bn[0][0]']             \n",
            " )                              480)                                                              \n",
            "                                                                                                  \n",
            " block4b_se_squeeze (GlobalAver  (None, 480)         0           ['block4b_activation[0][0]']     \n",
            " agePooling2D)                                                                                    \n",
            "                                                                                                  \n",
            " block4b_se_reshape (Reshape)   (None, 1, 1, 480)    0           ['block4b_se_squeeze[0][0]']     \n",
            "                                                                                                  \n",
            " block4b_se_reduce (Conv2D)     (None, 1, 1, 20)     9620        ['block4b_se_reshape[0][0]']     \n",
            "                                                                                                  \n",
            " block4b_se_expand (Conv2D)     (None, 1, 1, 480)    10080       ['block4b_se_reduce[0][0]']      \n",
            "                                                                                                  \n",
            " block4b_se_excite (Multiply)   (None, None, None,   0           ['block4b_activation[0][0]',     \n",
            "                                480)                              'block4b_se_expand[0][0]']      \n",
            "                                                                                                  \n",
            " block4b_project_conv (Conv2D)  (None, None, None,   38400       ['block4b_se_excite[0][0]']      \n",
            "                                80)                                                               \n",
            "                                                                                                  \n",
            " block4b_project_bn (BatchNorma  (None, None, None,   320        ['block4b_project_conv[0][0]']   \n",
            " lization)                      80)                                                               \n",
            "                                                                                                  \n",
            " block4b_drop (Dropout)         (None, None, None,   0           ['block4b_project_bn[0][0]']     \n",
            "                                80)                                                               \n",
            "                                                                                                  \n",
            " block4b_add (Add)              (None, None, None,   0           ['block4b_drop[0][0]',           \n",
            "                                80)                               'block4a_project_bn[0][0]']     \n",
            "                                                                                                  \n",
            " block4c_expand_conv (Conv2D)   (None, None, None,   38400       ['block4b_add[0][0]']            \n",
            "                                480)                                                              \n",
            "                                                                                                  \n",
            " block4c_expand_bn (BatchNormal  (None, None, None,   1920       ['block4c_expand_conv[0][0]']    \n",
            " ization)                       480)                                                              \n",
            "                                                                                                  \n",
            " block4c_expand_activation (Act  (None, None, None,   0          ['block4c_expand_bn[0][0]']      \n",
            " ivation)                       480)                                                              \n",
            "                                                                                                  \n",
            " block4c_dwconv (DepthwiseConv2  (None, None, None,   4320       ['block4c_expand_activation[0][0]\n",
            " D)                             480)                             ']                               \n",
            "                                                                                                  \n",
            " block4c_bn (BatchNormalization  (None, None, None,   1920       ['block4c_dwconv[0][0]']         \n",
            " )                              480)                                                              \n",
            "                                                                                                  \n",
            " block4c_activation (Activation  (None, None, None,   0          ['block4c_bn[0][0]']             \n",
            " )                              480)                                                              \n",
            "                                                                                                  \n",
            " block4c_se_squeeze (GlobalAver  (None, 480)         0           ['block4c_activation[0][0]']     \n",
            " agePooling2D)                                                                                    \n",
            "                                                                                                  \n",
            " block4c_se_reshape (Reshape)   (None, 1, 1, 480)    0           ['block4c_se_squeeze[0][0]']     \n",
            "                                                                                                  \n",
            " block4c_se_reduce (Conv2D)     (None, 1, 1, 20)     9620        ['block4c_se_reshape[0][0]']     \n",
            "                                                                                                  \n",
            " block4c_se_expand (Conv2D)     (None, 1, 1, 480)    10080       ['block4c_se_reduce[0][0]']      \n",
            "                                                                                                  \n",
            " block4c_se_excite (Multiply)   (None, None, None,   0           ['block4c_activation[0][0]',     \n",
            "                                480)                              'block4c_se_expand[0][0]']      \n",
            "                                                                                                  \n",
            " block4c_project_conv (Conv2D)  (None, None, None,   38400       ['block4c_se_excite[0][0]']      \n",
            "                                80)                                                               \n",
            "                                                                                                  \n",
            " block4c_project_bn (BatchNorma  (None, None, None,   320        ['block4c_project_conv[0][0]']   \n",
            " lization)                      80)                                                               \n",
            "                                                                                                  \n",
            " block4c_drop (Dropout)         (None, None, None,   0           ['block4c_project_bn[0][0]']     \n",
            "                                80)                                                               \n",
            "                                                                                                  \n",
            " block4c_add (Add)              (None, None, None,   0           ['block4c_drop[0][0]',           \n",
            "                                80)                               'block4b_add[0][0]']            \n",
            "                                                                                                  \n",
            " block5a_expand_conv (Conv2D)   (None, None, None,   38400       ['block4c_add[0][0]']            \n",
            "                                480)                                                              \n",
            "                                                                                                  \n",
            " block5a_expand_bn (BatchNormal  (None, None, None,   1920       ['block5a_expand_conv[0][0]']    \n",
            " ization)                       480)                                                              \n",
            "                                                                                                  \n",
            " block5a_expand_activation (Act  (None, None, None,   0          ['block5a_expand_bn[0][0]']      \n",
            " ivation)                       480)                                                              \n",
            "                                                                                                  \n",
            " block5a_dwconv (DepthwiseConv2  (None, None, None,   12000      ['block5a_expand_activation[0][0]\n",
            " D)                             480)                             ']                               \n",
            "                                                                                                  \n",
            " block5a_bn (BatchNormalization  (None, None, None,   1920       ['block5a_dwconv[0][0]']         \n",
            " )                              480)                                                              \n",
            "                                                                                                  \n",
            " block5a_activation (Activation  (None, None, None,   0          ['block5a_bn[0][0]']             \n",
            " )                              480)                                                              \n",
            "                                                                                                  \n",
            " block5a_se_squeeze (GlobalAver  (None, 480)         0           ['block5a_activation[0][0]']     \n",
            " agePooling2D)                                                                                    \n",
            "                                                                                                  \n",
            " block5a_se_reshape (Reshape)   (None, 1, 1, 480)    0           ['block5a_se_squeeze[0][0]']     \n",
            "                                                                                                  \n",
            " block5a_se_reduce (Conv2D)     (None, 1, 1, 20)     9620        ['block5a_se_reshape[0][0]']     \n",
            "                                                                                                  \n",
            " block5a_se_expand (Conv2D)     (None, 1, 1, 480)    10080       ['block5a_se_reduce[0][0]']      \n",
            "                                                                                                  \n",
            " block5a_se_excite (Multiply)   (None, None, None,   0           ['block5a_activation[0][0]',     \n",
            "                                480)                              'block5a_se_expand[0][0]']      \n",
            "                                                                                                  \n",
            " block5a_project_conv (Conv2D)  (None, None, None,   53760       ['block5a_se_excite[0][0]']      \n",
            "                                112)                                                              \n",
            "                                                                                                  \n",
            " block5a_project_bn (BatchNorma  (None, None, None,   448        ['block5a_project_conv[0][0]']   \n",
            " lization)                      112)                                                              \n",
            "                                                                                                  \n",
            " block5b_expand_conv (Conv2D)   (None, None, None,   75264       ['block5a_project_bn[0][0]']     \n",
            "                                672)                                                              \n",
            "                                                                                                  \n",
            " block5b_expand_bn (BatchNormal  (None, None, None,   2688       ['block5b_expand_conv[0][0]']    \n",
            " ization)                       672)                                                              \n",
            "                                                                                                  \n",
            " block5b_expand_activation (Act  (None, None, None,   0          ['block5b_expand_bn[0][0]']      \n",
            " ivation)                       672)                                                              \n",
            "                                                                                                  \n",
            " block5b_dwconv (DepthwiseConv2  (None, None, None,   16800      ['block5b_expand_activation[0][0]\n",
            " D)                             672)                             ']                               \n",
            "                                                                                                  \n",
            " block5b_bn (BatchNormalization  (None, None, None,   2688       ['block5b_dwconv[0][0]']         \n",
            " )                              672)                                                              \n",
            "                                                                                                  \n",
            " block5b_activation (Activation  (None, None, None,   0          ['block5b_bn[0][0]']             \n",
            " )                              672)                                                              \n",
            "                                                                                                  \n",
            " block5b_se_squeeze (GlobalAver  (None, 672)         0           ['block5b_activation[0][0]']     \n",
            " agePooling2D)                                                                                    \n",
            "                                                                                                  \n",
            " block5b_se_reshape (Reshape)   (None, 1, 1, 672)    0           ['block5b_se_squeeze[0][0]']     \n",
            "                                                                                                  \n",
            " block5b_se_reduce (Conv2D)     (None, 1, 1, 28)     18844       ['block5b_se_reshape[0][0]']     \n",
            "                                                                                                  \n",
            " block5b_se_expand (Conv2D)     (None, 1, 1, 672)    19488       ['block5b_se_reduce[0][0]']      \n",
            "                                                                                                  \n",
            " block5b_se_excite (Multiply)   (None, None, None,   0           ['block5b_activation[0][0]',     \n",
            "                                672)                              'block5b_se_expand[0][0]']      \n",
            "                                                                                                  \n",
            " block5b_project_conv (Conv2D)  (None, None, None,   75264       ['block5b_se_excite[0][0]']      \n",
            "                                112)                                                              \n",
            "                                                                                                  \n",
            " block5b_project_bn (BatchNorma  (None, None, None,   448        ['block5b_project_conv[0][0]']   \n",
            " lization)                      112)                                                              \n",
            "                                                                                                  \n",
            " block5b_drop (Dropout)         (None, None, None,   0           ['block5b_project_bn[0][0]']     \n",
            "                                112)                                                              \n",
            "                                                                                                  \n",
            " block5b_add (Add)              (None, None, None,   0           ['block5b_drop[0][0]',           \n",
            "                                112)                              'block5a_project_bn[0][0]']     \n",
            "                                                                                                  \n",
            " block5c_expand_conv (Conv2D)   (None, None, None,   75264       ['block5b_add[0][0]']            \n",
            "                                672)                                                              \n",
            "                                                                                                  \n",
            " block5c_expand_bn (BatchNormal  (None, None, None,   2688       ['block5c_expand_conv[0][0]']    \n",
            " ization)                       672)                                                              \n",
            "                                                                                                  \n",
            " block5c_expand_activation (Act  (None, None, None,   0          ['block5c_expand_bn[0][0]']      \n",
            " ivation)                       672)                                                              \n",
            "                                                                                                  \n",
            " block5c_dwconv (DepthwiseConv2  (None, None, None,   16800      ['block5c_expand_activation[0][0]\n",
            " D)                             672)                             ']                               \n",
            "                                                                                                  \n",
            " block5c_bn (BatchNormalization  (None, None, None,   2688       ['block5c_dwconv[0][0]']         \n",
            " )                              672)                                                              \n",
            "                                                                                                  \n",
            " block5c_activation (Activation  (None, None, None,   0          ['block5c_bn[0][0]']             \n",
            " )                              672)                                                              \n",
            "                                                                                                  \n",
            " block5c_se_squeeze (GlobalAver  (None, 672)         0           ['block5c_activation[0][0]']     \n",
            " agePooling2D)                                                                                    \n",
            "                                                                                                  \n",
            " block5c_se_reshape (Reshape)   (None, 1, 1, 672)    0           ['block5c_se_squeeze[0][0]']     \n",
            "                                                                                                  \n",
            " block5c_se_reduce (Conv2D)     (None, 1, 1, 28)     18844       ['block5c_se_reshape[0][0]']     \n",
            "                                                                                                  \n",
            " block5c_se_expand (Conv2D)     (None, 1, 1, 672)    19488       ['block5c_se_reduce[0][0]']      \n",
            "                                                                                                  \n",
            " block5c_se_excite (Multiply)   (None, None, None,   0           ['block5c_activation[0][0]',     \n",
            "                                672)                              'block5c_se_expand[0][0]']      \n",
            "                                                                                                  \n",
            " block5c_project_conv (Conv2D)  (None, None, None,   75264       ['block5c_se_excite[0][0]']      \n",
            "                                112)                                                              \n",
            "                                                                                                  \n",
            " block5c_project_bn (BatchNorma  (None, None, None,   448        ['block5c_project_conv[0][0]']   \n",
            " lization)                      112)                                                              \n",
            "                                                                                                  \n",
            " block5c_drop (Dropout)         (None, None, None,   0           ['block5c_project_bn[0][0]']     \n",
            "                                112)                                                              \n",
            "                                                                                                  \n",
            " block5c_add (Add)              (None, None, None,   0           ['block5c_drop[0][0]',           \n",
            "                                112)                              'block5b_add[0][0]']            \n",
            "                                                                                                  \n",
            " block6a_expand_conv (Conv2D)   (None, None, None,   75264       ['block5c_add[0][0]']            \n",
            "                                672)                                                              \n",
            "                                                                                                  \n",
            " block6a_expand_bn (BatchNormal  (None, None, None,   2688       ['block6a_expand_conv[0][0]']    \n",
            " ization)                       672)                                                              \n",
            "                                                                                                  \n",
            " block6a_expand_activation (Act  (None, None, None,   0          ['block6a_expand_bn[0][0]']      \n",
            " ivation)                       672)                                                              \n",
            "                                                                                                  \n",
            " block6a_dwconv_pad (ZeroPaddin  (None, None, None,   0          ['block6a_expand_activation[0][0]\n",
            " g2D)                           672)                             ']                               \n",
            "                                                                                                  \n",
            " block6a_dwconv (DepthwiseConv2  (None, None, None,   16800      ['block6a_dwconv_pad[0][0]']     \n",
            " D)                             672)                                                              \n",
            "                                                                                                  \n",
            " block6a_bn (BatchNormalization  (None, None, None,   2688       ['block6a_dwconv[0][0]']         \n",
            " )                              672)                                                              \n",
            "                                                                                                  \n",
            " block6a_activation (Activation  (None, None, None,   0          ['block6a_bn[0][0]']             \n",
            " )                              672)                                                              \n",
            "                                                                                                  \n",
            " block6a_se_squeeze (GlobalAver  (None, 672)         0           ['block6a_activation[0][0]']     \n",
            " agePooling2D)                                                                                    \n",
            "                                                                                                  \n",
            " block6a_se_reshape (Reshape)   (None, 1, 1, 672)    0           ['block6a_se_squeeze[0][0]']     \n",
            "                                                                                                  \n",
            " block6a_se_reduce (Conv2D)     (None, 1, 1, 28)     18844       ['block6a_se_reshape[0][0]']     \n",
            "                                                                                                  \n",
            " block6a_se_expand (Conv2D)     (None, 1, 1, 672)    19488       ['block6a_se_reduce[0][0]']      \n",
            "                                                                                                  \n",
            " block6a_se_excite (Multiply)   (None, None, None,   0           ['block6a_activation[0][0]',     \n",
            "                                672)                              'block6a_se_expand[0][0]']      \n",
            "                                                                                                  \n",
            " block6a_project_conv (Conv2D)  (None, None, None,   129024      ['block6a_se_excite[0][0]']      \n",
            "                                192)                                                              \n",
            "                                                                                                  \n",
            " block6a_project_bn (BatchNorma  (None, None, None,   768        ['block6a_project_conv[0][0]']   \n",
            " lization)                      192)                                                              \n",
            "                                                                                                  \n",
            " block6b_expand_conv (Conv2D)   (None, None, None,   221184      ['block6a_project_bn[0][0]']     \n",
            "                                1152)                                                             \n",
            "                                                                                                  \n",
            " block6b_expand_bn (BatchNormal  (None, None, None,   4608       ['block6b_expand_conv[0][0]']    \n",
            " ization)                       1152)                                                             \n",
            "                                                                                                  \n",
            " block6b_expand_activation (Act  (None, None, None,   0          ['block6b_expand_bn[0][0]']      \n",
            " ivation)                       1152)                                                             \n",
            "                                                                                                  \n",
            " block6b_dwconv (DepthwiseConv2  (None, None, None,   28800      ['block6b_expand_activation[0][0]\n",
            " D)                             1152)                            ']                               \n",
            "                                                                                                  \n",
            " block6b_bn (BatchNormalization  (None, None, None,   4608       ['block6b_dwconv[0][0]']         \n",
            " )                              1152)                                                             \n",
            "                                                                                                  \n",
            " block6b_activation (Activation  (None, None, None,   0          ['block6b_bn[0][0]']             \n",
            " )                              1152)                                                             \n",
            "                                                                                                  \n",
            " block6b_se_squeeze (GlobalAver  (None, 1152)        0           ['block6b_activation[0][0]']     \n",
            " agePooling2D)                                                                                    \n",
            "                                                                                                  \n",
            " block6b_se_reshape (Reshape)   (None, 1, 1, 1152)   0           ['block6b_se_squeeze[0][0]']     \n",
            "                                                                                                  \n",
            " block6b_se_reduce (Conv2D)     (None, 1, 1, 48)     55344       ['block6b_se_reshape[0][0]']     \n",
            "                                                                                                  \n",
            " block6b_se_expand (Conv2D)     (None, 1, 1, 1152)   56448       ['block6b_se_reduce[0][0]']      \n",
            "                                                                                                  \n",
            " block6b_se_excite (Multiply)   (None, None, None,   0           ['block6b_activation[0][0]',     \n",
            "                                1152)                             'block6b_se_expand[0][0]']      \n",
            "                                                                                                  \n",
            " block6b_project_conv (Conv2D)  (None, None, None,   221184      ['block6b_se_excite[0][0]']      \n",
            "                                192)                                                              \n",
            "                                                                                                  \n",
            " block6b_project_bn (BatchNorma  (None, None, None,   768        ['block6b_project_conv[0][0]']   \n",
            " lization)                      192)                                                              \n",
            "                                                                                                  \n",
            " block6b_drop (Dropout)         (None, None, None,   0           ['block6b_project_bn[0][0]']     \n",
            "                                192)                                                              \n",
            "                                                                                                  \n",
            " block6b_add (Add)              (None, None, None,   0           ['block6b_drop[0][0]',           \n",
            "                                192)                              'block6a_project_bn[0][0]']     \n",
            "                                                                                                  \n",
            " block6c_expand_conv (Conv2D)   (None, None, None,   221184      ['block6b_add[0][0]']            \n",
            "                                1152)                                                             \n",
            "                                                                                                  \n",
            " block6c_expand_bn (BatchNormal  (None, None, None,   4608       ['block6c_expand_conv[0][0]']    \n",
            " ization)                       1152)                                                             \n",
            "                                                                                                  \n",
            " block6c_expand_activation (Act  (None, None, None,   0          ['block6c_expand_bn[0][0]']      \n",
            " ivation)                       1152)                                                             \n",
            "                                                                                                  \n",
            " block6c_dwconv (DepthwiseConv2  (None, None, None,   28800      ['block6c_expand_activation[0][0]\n",
            " D)                             1152)                            ']                               \n",
            "                                                                                                  \n",
            " block6c_bn (BatchNormalization  (None, None, None,   4608       ['block6c_dwconv[0][0]']         \n",
            " )                              1152)                                                             \n",
            "                                                                                                  \n",
            " block6c_activation (Activation  (None, None, None,   0          ['block6c_bn[0][0]']             \n",
            " )                              1152)                                                             \n",
            "                                                                                                  \n",
            " block6c_se_squeeze (GlobalAver  (None, 1152)        0           ['block6c_activation[0][0]']     \n",
            " agePooling2D)                                                                                    \n",
            "                                                                                                  \n",
            " block6c_se_reshape (Reshape)   (None, 1, 1, 1152)   0           ['block6c_se_squeeze[0][0]']     \n",
            "                                                                                                  \n",
            " block6c_se_reduce (Conv2D)     (None, 1, 1, 48)     55344       ['block6c_se_reshape[0][0]']     \n",
            "                                                                                                  \n",
            " block6c_se_expand (Conv2D)     (None, 1, 1, 1152)   56448       ['block6c_se_reduce[0][0]']      \n",
            "                                                                                                  \n",
            " block6c_se_excite (Multiply)   (None, None, None,   0           ['block6c_activation[0][0]',     \n",
            "                                1152)                             'block6c_se_expand[0][0]']      \n",
            "                                                                                                  \n",
            " block6c_project_conv (Conv2D)  (None, None, None,   221184      ['block6c_se_excite[0][0]']      \n",
            "                                192)                                                              \n",
            "                                                                                                  \n",
            " block6c_project_bn (BatchNorma  (None, None, None,   768        ['block6c_project_conv[0][0]']   \n",
            " lization)                      192)                                                              \n",
            "                                                                                                  \n",
            " block6c_drop (Dropout)         (None, None, None,   0           ['block6c_project_bn[0][0]']     \n",
            "                                192)                                                              \n",
            "                                                                                                  \n",
            " block6c_add (Add)              (None, None, None,   0           ['block6c_drop[0][0]',           \n",
            "                                192)                              'block6b_add[0][0]']            \n",
            "                                                                                                  \n",
            " block6d_expand_conv (Conv2D)   (None, None, None,   221184      ['block6c_add[0][0]']            \n",
            "                                1152)                                                             \n",
            "                                                                                                  \n",
            " block6d_expand_bn (BatchNormal  (None, None, None,   4608       ['block6d_expand_conv[0][0]']    \n",
            " ization)                       1152)                                                             \n",
            "                                                                                                  \n",
            " block6d_expand_activation (Act  (None, None, None,   0          ['block6d_expand_bn[0][0]']      \n",
            " ivation)                       1152)                                                             \n",
            "                                                                                                  \n",
            " block6d_dwconv (DepthwiseConv2  (None, None, None,   28800      ['block6d_expand_activation[0][0]\n",
            " D)                             1152)                            ']                               \n",
            "                                                                                                  \n",
            " block6d_bn (BatchNormalization  (None, None, None,   4608       ['block6d_dwconv[0][0]']         \n",
            " )                              1152)                                                             \n",
            "                                                                                                  \n",
            " block6d_activation (Activation  (None, None, None,   0          ['block6d_bn[0][0]']             \n",
            " )                              1152)                                                             \n",
            "                                                                                                  \n",
            " block6d_se_squeeze (GlobalAver  (None, 1152)        0           ['block6d_activation[0][0]']     \n",
            " agePooling2D)                                                                                    \n",
            "                                                                                                  \n",
            " block6d_se_reshape (Reshape)   (None, 1, 1, 1152)   0           ['block6d_se_squeeze[0][0]']     \n",
            "                                                                                                  \n",
            " block6d_se_reduce (Conv2D)     (None, 1, 1, 48)     55344       ['block6d_se_reshape[0][0]']     \n",
            "                                                                                                  \n",
            " block6d_se_expand (Conv2D)     (None, 1, 1, 1152)   56448       ['block6d_se_reduce[0][0]']      \n",
            "                                                                                                  \n",
            " block6d_se_excite (Multiply)   (None, None, None,   0           ['block6d_activation[0][0]',     \n",
            "                                1152)                             'block6d_se_expand[0][0]']      \n",
            "                                                                                                  \n",
            " block6d_project_conv (Conv2D)  (None, None, None,   221184      ['block6d_se_excite[0][0]']      \n",
            "                                192)                                                              \n",
            "                                                                                                  \n",
            " block6d_project_bn (BatchNorma  (None, None, None,   768        ['block6d_project_conv[0][0]']   \n",
            " lization)                      192)                                                              \n",
            "                                                                                                  \n",
            " block6d_drop (Dropout)         (None, None, None,   0           ['block6d_project_bn[0][0]']     \n",
            "                                192)                                                              \n",
            "                                                                                                  \n",
            " block6d_add (Add)              (None, None, None,   0           ['block6d_drop[0][0]',           \n",
            "                                192)                              'block6c_add[0][0]']            \n",
            "                                                                                                  \n",
            " block7a_expand_conv (Conv2D)   (None, None, None,   221184      ['block6d_add[0][0]']            \n",
            "                                1152)                                                             \n",
            "                                                                                                  \n",
            " block7a_expand_bn (BatchNormal  (None, None, None,   4608       ['block7a_expand_conv[0][0]']    \n",
            " ization)                       1152)                                                             \n",
            "                                                                                                  \n",
            " block7a_expand_activation (Act  (None, None, None,   0          ['block7a_expand_bn[0][0]']      \n",
            " ivation)                       1152)                                                             \n",
            "                                                                                                  \n",
            " block7a_dwconv (DepthwiseConv2  (None, None, None,   10368      ['block7a_expand_activation[0][0]\n",
            " D)                             1152)                            ']                               \n",
            "                                                                                                  \n",
            " block7a_bn (BatchNormalization  (None, None, None,   4608       ['block7a_dwconv[0][0]']         \n",
            " )                              1152)                                                             \n",
            "                                                                                                  \n",
            " block7a_activation (Activation  (None, None, None,   0          ['block7a_bn[0][0]']             \n",
            " )                              1152)                                                             \n",
            "                                                                                                  \n",
            " block7a_se_squeeze (GlobalAver  (None, 1152)        0           ['block7a_activation[0][0]']     \n",
            " agePooling2D)                                                                                    \n",
            "                                                                                                  \n",
            " block7a_se_reshape (Reshape)   (None, 1, 1, 1152)   0           ['block7a_se_squeeze[0][0]']     \n",
            "                                                                                                  \n",
            " block7a_se_reduce (Conv2D)     (None, 1, 1, 48)     55344       ['block7a_se_reshape[0][0]']     \n",
            "                                                                                                  \n",
            " block7a_se_expand (Conv2D)     (None, 1, 1, 1152)   56448       ['block7a_se_reduce[0][0]']      \n",
            "                                                                                                  \n",
            " block7a_se_excite (Multiply)   (None, None, None,   0           ['block7a_activation[0][0]',     \n",
            "                                1152)                             'block7a_se_expand[0][0]']      \n",
            "                                                                                                  \n",
            " block7a_project_conv (Conv2D)  (None, None, None,   368640      ['block7a_se_excite[0][0]']      \n",
            "                                320)                                                              \n",
            "                                                                                                  \n",
            " block7a_project_bn (BatchNorma  (None, None, None,   1280       ['block7a_project_conv[0][0]']   \n",
            " lization)                      320)                                                              \n",
            "                                                                                                  \n",
            " top_conv (Conv2D)              (None, None, None,   409600      ['block7a_project_bn[0][0]']     \n",
            "                                1280)                                                             \n",
            "                                                                                                  \n",
            " top_bn (BatchNormalization)    (None, None, None,   5120        ['top_conv[0][0]']               \n",
            "                                1280)                                                             \n",
            "                                                                                                  \n",
            " top_activation (Activation)    (None, None, None,   0           ['top_bn[0][0]']                 \n",
            "                                1280)                                                             \n",
            "                                                                                                  \n",
            " global_average_pooling2d (Glob  (None, 1280)        0           ['top_activation[0][0]']         \n",
            " alAveragePooling2D)                                                                              \n",
            "                                                                                                  \n",
            " dropout (Dropout)              (None, 1280)         0           ['global_average_pooling2d[0][0]'\n",
            "                                                                 ]                                \n",
            "                                                                                                  \n",
            " dense (Dense)                  (None, 1024)         1311744     ['dropout[0][0]']                \n",
            "                                                                                                  \n",
            " dense_1 (Dense)                (None, 7)            7175        ['dense[0][0]']                  \n",
            "                                                                                                  \n",
            "==================================================================================================\n",
            "Total params: 5,368,490\n",
            "Trainable params: 5,326,467\n",
            "Non-trainable params: 42,023\n",
            "__________________________________________________________________________________________________\n"
          ]
        }
      ],
      "source": [
        "model.summary()"
      ]
    },
    {
      "cell_type": "code",
      "execution_count": null,
      "metadata": {
        "colab": {
          "base_uri": "https://localhost:8080/"
        },
        "id": "clVzWKN3XDMI",
        "outputId": "e9ca6550-b566-487d-aef8-10bea459e0e3"
      },
      "outputs": [
        {
          "output_type": "stream",
          "name": "stderr",
          "text": [
            "/usr/local/lib/python3.7/dist-packages/keras/optimizer_v2/nadam.py:73: UserWarning: The `lr` argument is deprecated, use `learning_rate` instead.\n",
            "  super(Nadam, self).__init__(name, **kwargs)\n"
          ]
        }
      ],
      "source": [
        "from tensorflow.keras.optimizers import Nadam\n",
        "opt = Nadam(lr=0.000003)\n",
        "model.compile(loss='categorical_crossentropy', optimizer=opt, metrics=['accuracy'])"
      ]
    },
    {
      "cell_type": "code",
      "execution_count": null,
      "metadata": {
        "id": "zZRVX4GMXGne"
      },
      "outputs": [],
      "source": [
        "# import tensorflow as tf\n",
        "# class myCallback(tf.keras.callbacks.Callback):\n",
        "#  def on_epoch_end(self, epoch, logs={}):\n",
        "#     if(logs.get('val_accuracy')>=0.91):\n",
        "#       print(\"\\nReached 90.0% accuracy so cancelling training!\")\n",
        "#       self.model.stop_training = True\n",
        "\n",
        "# callbacks = myCallback()"
      ]
    },
    {
      "cell_type": "code",
      "execution_count": null,
      "metadata": {
        "id": "EDM_ZJmZXKN2",
        "colab": {
          "base_uri": "https://localhost:8080/"
        },
        "outputId": "825a389e-009b-464f-c910-645a722d38be"
      },
      "outputs": [
        {
          "output_type": "stream",
          "name": "stdout",
          "text": [
            "Epoch 1/200\n",
            "WARNING:tensorflow:Model was constructed with shape (None, None, None, 3) for input KerasTensor(type_spec=TensorSpec(shape=(None, None, None, 3), dtype=tf.float32, name='input_1'), name='input_1', description=\"created by layer 'input_1'\"), but it was called on an input with incompatible shape (None, 64, 64, 1).\n",
            "WARNING:tensorflow:Model was constructed with shape (None, None, None, 3) for input KerasTensor(type_spec=TensorSpec(shape=(None, None, None, 3), dtype=tf.float32, name='input_1'), name='input_1', description=\"created by layer 'input_1'\"), but it was called on an input with incompatible shape (None, 64, 64, 1).\n",
            "66/66 [==============================] - ETA: 0s - loss: 2.0887 - accuracy: 0.1817WARNING:tensorflow:Model was constructed with shape (None, None, None, 3) for input KerasTensor(type_spec=TensorSpec(shape=(None, None, None, 3), dtype=tf.float32, name='input_1'), name='input_1', description=\"created by layer 'input_1'\"), but it was called on an input with incompatible shape (None, 64, 64, 1).\n",
            "66/66 [==============================] - 86s 628ms/step - loss: 2.0887 - accuracy: 0.1817 - val_loss: 1.9727 - val_accuracy: 0.1162\n",
            "Epoch 2/200\n",
            "66/66 [==============================] - 43s 646ms/step - loss: 2.0684 - accuracy: 0.1810 - val_loss: 2.0591 - val_accuracy: 0.1162\n",
            "Epoch 3/200\n",
            "66/66 [==============================] - 40s 600ms/step - loss: 1.9989 - accuracy: 0.2091 - val_loss: 2.0791 - val_accuracy: 0.1162\n",
            "Epoch 4/200\n",
            "66/66 [==============================] - 39s 597ms/step - loss: 1.9844 - accuracy: 0.2167 - val_loss: 2.2154 - val_accuracy: 0.1185\n",
            "Epoch 5/200\n",
            "66/66 [==============================] - 39s 595ms/step - loss: 1.9520 - accuracy: 0.2266 - val_loss: 2.2817 - val_accuracy: 0.1162\n",
            "Epoch 6/200\n",
            "66/66 [==============================] - 40s 600ms/step - loss: 1.9075 - accuracy: 0.2373 - val_loss: 2.0270 - val_accuracy: 0.1253\n",
            "Epoch 7/200\n",
            "66/66 [==============================] - 39s 597ms/step - loss: 1.8860 - accuracy: 0.2631 - val_loss: 2.0087 - val_accuracy: 0.1891\n",
            "Epoch 8/200\n",
            "66/66 [==============================] - 40s 607ms/step - loss: 1.8351 - accuracy: 0.2890 - val_loss: 2.0251 - val_accuracy: 0.1845\n",
            "Epoch 9/200\n",
            "66/66 [==============================] - 42s 632ms/step - loss: 1.8295 - accuracy: 0.2806 - val_loss: 2.0144 - val_accuracy: 0.1276\n",
            "Epoch 10/200\n",
            "66/66 [==============================] - 40s 600ms/step - loss: 1.7745 - accuracy: 0.3110 - val_loss: 1.9934 - val_accuracy: 0.1298\n",
            "Epoch 11/200\n",
            "66/66 [==============================] - 40s 600ms/step - loss: 1.7730 - accuracy: 0.3049 - val_loss: 1.9983 - val_accuracy: 0.1276\n",
            "Epoch 12/200\n",
            "66/66 [==============================] - 40s 604ms/step - loss: 1.7531 - accuracy: 0.3300 - val_loss: 1.9570 - val_accuracy: 0.1435\n",
            "Epoch 13/200\n",
            "66/66 [==============================] - 41s 616ms/step - loss: 1.7158 - accuracy: 0.3194 - val_loss: 1.9458 - val_accuracy: 0.1822\n",
            "Epoch 14/200\n",
            "66/66 [==============================] - 40s 609ms/step - loss: 1.6944 - accuracy: 0.3483 - val_loss: 1.8567 - val_accuracy: 0.2551\n",
            "Epoch 15/200\n",
            "66/66 [==============================] - 41s 622ms/step - loss: 1.6683 - accuracy: 0.3734 - val_loss: 1.7400 - val_accuracy: 0.3371\n",
            "Epoch 16/200\n",
            "66/66 [==============================] - 41s 620ms/step - loss: 1.6272 - accuracy: 0.4023 - val_loss: 1.6726 - val_accuracy: 0.3622\n",
            "Epoch 17/200\n",
            "66/66 [==============================] - 40s 607ms/step - loss: 1.6375 - accuracy: 0.3954 - val_loss: 1.7072 - val_accuracy: 0.3667\n",
            "Epoch 18/200\n",
            "66/66 [==============================] - 40s 604ms/step - loss: 1.5853 - accuracy: 0.4160 - val_loss: 1.6028 - val_accuracy: 0.4146\n",
            "Epoch 19/200\n",
            "66/66 [==============================] - 40s 601ms/step - loss: 1.5811 - accuracy: 0.4129 - val_loss: 1.5532 - val_accuracy: 0.4351\n",
            "Epoch 20/200\n",
            "66/66 [==============================] - 40s 600ms/step - loss: 1.5728 - accuracy: 0.4259 - val_loss: 1.5763 - val_accuracy: 0.4442\n",
            "Epoch 21/200\n",
            "66/66 [==============================] - 40s 604ms/step - loss: 1.5388 - accuracy: 0.4350 - val_loss: 1.5894 - val_accuracy: 0.4374\n",
            "Epoch 22/200\n",
            "66/66 [==============================] - 40s 603ms/step - loss: 1.5122 - accuracy: 0.4502 - val_loss: 1.5670 - val_accuracy: 0.4146\n",
            "Epoch 23/200\n",
            "66/66 [==============================] - 39s 597ms/step - loss: 1.4710 - accuracy: 0.4738 - val_loss: 1.5546 - val_accuracy: 0.4487\n",
            "Epoch 24/200\n",
            "66/66 [==============================] - 40s 600ms/step - loss: 1.4795 - accuracy: 0.4692 - val_loss: 1.6521 - val_accuracy: 0.4009\n",
            "Epoch 25/200\n",
            "66/66 [==============================] - 40s 601ms/step - loss: 1.4748 - accuracy: 0.4722 - val_loss: 1.4892 - val_accuracy: 0.5057\n",
            "Epoch 26/200\n",
            "66/66 [==============================] - 40s 600ms/step - loss: 1.4406 - accuracy: 0.4890 - val_loss: 1.5607 - val_accuracy: 0.4260\n",
            "Epoch 27/200\n",
            "66/66 [==============================] - 40s 600ms/step - loss: 1.4439 - accuracy: 0.4669 - val_loss: 1.5187 - val_accuracy: 0.4715\n",
            "Epoch 28/200\n",
            "66/66 [==============================] - 39s 597ms/step - loss: 1.4225 - accuracy: 0.4829 - val_loss: 1.5215 - val_accuracy: 0.4852\n",
            "Epoch 29/200\n",
            "66/66 [==============================] - 39s 598ms/step - loss: 1.3834 - accuracy: 0.5118 - val_loss: 1.5248 - val_accuracy: 0.4852\n",
            "Epoch 30/200\n",
            "66/66 [==============================] - 39s 598ms/step - loss: 1.3792 - accuracy: 0.5110 - val_loss: 1.4445 - val_accuracy: 0.4806\n",
            "Epoch 31/200\n",
            "66/66 [==============================] - 40s 599ms/step - loss: 1.3639 - accuracy: 0.5300 - val_loss: 1.3938 - val_accuracy: 0.5376\n",
            "Epoch 32/200\n",
            "66/66 [==============================] - 40s 605ms/step - loss: 1.3610 - accuracy: 0.5217 - val_loss: 1.4378 - val_accuracy: 0.5262\n",
            "Epoch 33/200\n",
            "66/66 [==============================] - 39s 599ms/step - loss: 1.3258 - accuracy: 0.5475 - val_loss: 1.4590 - val_accuracy: 0.4943\n",
            "Epoch 34/200\n",
            "66/66 [==============================] - 40s 600ms/step - loss: 1.2987 - accuracy: 0.5384 - val_loss: 1.3735 - val_accuracy: 0.5421\n",
            "Epoch 35/200\n",
            "66/66 [==============================] - 39s 598ms/step - loss: 1.2894 - accuracy: 0.5506 - val_loss: 1.3304 - val_accuracy: 0.5490\n",
            "Epoch 36/200\n",
            "66/66 [==============================] - 40s 601ms/step - loss: 1.2633 - accuracy: 0.5764 - val_loss: 1.3237 - val_accuracy: 0.5718\n",
            "Epoch 37/200\n",
            "66/66 [==============================] - 40s 600ms/step - loss: 1.2666 - accuracy: 0.5612 - val_loss: 1.2886 - val_accuracy: 0.5831\n",
            "Epoch 38/200\n",
            "66/66 [==============================] - 40s 600ms/step - loss: 1.2293 - accuracy: 0.5757 - val_loss: 1.3767 - val_accuracy: 0.5171\n",
            "Epoch 39/200\n",
            "66/66 [==============================] - 39s 593ms/step - loss: 1.2238 - accuracy: 0.5909 - val_loss: 1.3792 - val_accuracy: 0.5444\n",
            "Epoch 40/200\n",
            "66/66 [==============================] - 39s 599ms/step - loss: 1.2047 - accuracy: 0.5932 - val_loss: 1.2381 - val_accuracy: 0.6264\n",
            "Epoch 41/200\n",
            "66/66 [==============================] - 40s 600ms/step - loss: 1.2018 - accuracy: 0.5848 - val_loss: 1.2211 - val_accuracy: 0.6378\n",
            "Epoch 42/200\n",
            "66/66 [==============================] - 40s 605ms/step - loss: 1.2051 - accuracy: 0.5810 - val_loss: 1.3539 - val_accuracy: 0.5626\n",
            "Epoch 43/200\n",
            "66/66 [==============================] - 40s 603ms/step - loss: 1.1785 - accuracy: 0.6167 - val_loss: 1.3320 - val_accuracy: 0.5467\n",
            "Epoch 44/200\n",
            "66/66 [==============================] - 40s 608ms/step - loss: 1.1437 - accuracy: 0.6205 - val_loss: 1.3644 - val_accuracy: 0.5444\n",
            "Epoch 45/200\n",
            "66/66 [==============================] - 40s 602ms/step - loss: 1.1509 - accuracy: 0.6144 - val_loss: 1.3275 - val_accuracy: 0.5581\n",
            "Epoch 46/200\n",
            "66/66 [==============================] - 39s 597ms/step - loss: 1.1323 - accuracy: 0.6137 - val_loss: 1.1390 - val_accuracy: 0.6469\n",
            "Epoch 47/200\n",
            "66/66 [==============================] - 40s 609ms/step - loss: 1.1341 - accuracy: 0.6152 - val_loss: 1.2578 - val_accuracy: 0.5854\n",
            "Epoch 48/200\n",
            "66/66 [==============================] - 40s 605ms/step - loss: 1.0977 - accuracy: 0.6373 - val_loss: 1.1541 - val_accuracy: 0.6355\n",
            "Epoch 49/200\n",
            "66/66 [==============================] - 40s 602ms/step - loss: 1.0739 - accuracy: 0.6395 - val_loss: 1.1179 - val_accuracy: 0.6560\n",
            "Epoch 50/200\n",
            "66/66 [==============================] - 40s 602ms/step - loss: 1.0815 - accuracy: 0.6327 - val_loss: 1.0720 - val_accuracy: 0.6925\n",
            "Epoch 51/200\n",
            "66/66 [==============================] - 40s 600ms/step - loss: 1.0675 - accuracy: 0.6502 - val_loss: 1.0819 - val_accuracy: 0.6902\n",
            "Epoch 52/200\n",
            "66/66 [==============================] - 40s 600ms/step - loss: 1.0441 - accuracy: 0.6654 - val_loss: 1.0216 - val_accuracy: 0.6879\n",
            "Epoch 53/200\n",
            "66/66 [==============================] - 40s 603ms/step - loss: 1.0609 - accuracy: 0.6570 - val_loss: 1.1015 - val_accuracy: 0.6879\n",
            "Epoch 54/200\n",
            "66/66 [==============================] - 40s 600ms/step - loss: 1.0186 - accuracy: 0.6707 - val_loss: 1.2147 - val_accuracy: 0.5877\n",
            "Epoch 55/200\n",
            "66/66 [==============================] - 39s 598ms/step - loss: 1.0026 - accuracy: 0.6662 - val_loss: 1.0504 - val_accuracy: 0.7175\n",
            "Epoch 56/200\n",
            "66/66 [==============================] - 40s 605ms/step - loss: 1.0102 - accuracy: 0.6540 - val_loss: 0.9471 - val_accuracy: 0.7380\n",
            "Epoch 57/200\n",
            "66/66 [==============================] - 40s 605ms/step - loss: 0.9589 - accuracy: 0.6973 - val_loss: 1.1332 - val_accuracy: 0.6560\n",
            "Epoch 58/200\n",
            "66/66 [==============================] - 40s 604ms/step - loss: 0.9962 - accuracy: 0.6776 - val_loss: 0.9641 - val_accuracy: 0.7267\n",
            "Epoch 59/200\n",
            "66/66 [==============================] - 40s 600ms/step - loss: 0.9559 - accuracy: 0.6859 - val_loss: 1.0644 - val_accuracy: 0.6765\n",
            "Epoch 60/200\n",
            "66/66 [==============================] - 39s 596ms/step - loss: 0.9656 - accuracy: 0.6791 - val_loss: 0.9245 - val_accuracy: 0.7563\n",
            "Epoch 61/200\n",
            "66/66 [==============================] - 39s 597ms/step - loss: 0.9323 - accuracy: 0.6875 - val_loss: 0.9044 - val_accuracy: 0.7472\n",
            "Epoch 62/200\n",
            "66/66 [==============================] - 39s 596ms/step - loss: 0.9546 - accuracy: 0.6859 - val_loss: 0.9422 - val_accuracy: 0.7244\n",
            "Epoch 63/200\n",
            "66/66 [==============================] - 39s 597ms/step - loss: 0.9138 - accuracy: 0.6989 - val_loss: 0.9226 - val_accuracy: 0.7267\n",
            "Epoch 64/200\n",
            "66/66 [==============================] - 40s 606ms/step - loss: 0.9032 - accuracy: 0.7133 - val_loss: 0.9732 - val_accuracy: 0.7221\n",
            "Epoch 65/200\n",
            "66/66 [==============================] - 40s 602ms/step - loss: 0.9130 - accuracy: 0.6996 - val_loss: 1.0140 - val_accuracy: 0.6856\n",
            "Epoch 66/200\n",
            "66/66 [==============================] - 40s 601ms/step - loss: 0.8883 - accuracy: 0.7133 - val_loss: 0.9233 - val_accuracy: 0.7699\n",
            "Epoch 67/200\n",
            "66/66 [==============================] - 39s 598ms/step - loss: 0.9104 - accuracy: 0.6989 - val_loss: 0.9201 - val_accuracy: 0.7517\n",
            "Epoch 68/200\n",
            "66/66 [==============================] - 40s 603ms/step - loss: 0.8333 - accuracy: 0.7483 - val_loss: 1.1076 - val_accuracy: 0.6105\n",
            "Epoch 69/200\n",
            "66/66 [==============================] - 40s 601ms/step - loss: 0.8819 - accuracy: 0.7110 - val_loss: 1.1654 - val_accuracy: 0.6196\n",
            "Epoch 70/200\n",
            "66/66 [==============================] - 39s 598ms/step - loss: 0.8312 - accuracy: 0.7278 - val_loss: 0.8428 - val_accuracy: 0.7677\n",
            "Epoch 71/200\n",
            "66/66 [==============================] - 39s 598ms/step - loss: 0.8729 - accuracy: 0.7095 - val_loss: 1.0114 - val_accuracy: 0.6970\n",
            "Epoch 72/200\n",
            "66/66 [==============================] - 40s 603ms/step - loss: 0.8396 - accuracy: 0.7209 - val_loss: 0.8589 - val_accuracy: 0.7540\n",
            "Epoch 73/200\n",
            "66/66 [==============================] - 40s 603ms/step - loss: 0.7850 - accuracy: 0.7498 - val_loss: 0.9054 - val_accuracy: 0.7380\n",
            "Epoch 74/200\n",
            "66/66 [==============================] - 39s 597ms/step - loss: 0.8307 - accuracy: 0.7430 - val_loss: 0.8643 - val_accuracy: 0.7517\n",
            "Epoch 75/200\n",
            "66/66 [==============================] - 40s 601ms/step - loss: 0.8158 - accuracy: 0.7202 - val_loss: 0.7829 - val_accuracy: 0.7654\n",
            "Epoch 76/200\n",
            "66/66 [==============================] - 39s 599ms/step - loss: 0.8196 - accuracy: 0.7308 - val_loss: 0.8168 - val_accuracy: 0.7631\n",
            "Epoch 77/200\n",
            "66/66 [==============================] - 40s 600ms/step - loss: 0.7891 - accuracy: 0.7460 - val_loss: 0.7971 - val_accuracy: 0.7677\n",
            "Epoch 78/200\n",
            "66/66 [==============================] - 40s 605ms/step - loss: 0.7573 - accuracy: 0.7582 - val_loss: 0.9486 - val_accuracy: 0.7039\n",
            "Epoch 79/200\n",
            "66/66 [==============================] - 39s 599ms/step - loss: 0.7646 - accuracy: 0.7536 - val_loss: 0.8907 - val_accuracy: 0.7267\n",
            "Epoch 80/200\n",
            "66/66 [==============================] - 40s 603ms/step - loss: 0.7827 - accuracy: 0.7422 - val_loss: 1.0164 - val_accuracy: 0.6697\n",
            "Epoch 81/200\n",
            "66/66 [==============================] - 40s 601ms/step - loss: 0.7747 - accuracy: 0.7430 - val_loss: 0.7869 - val_accuracy: 0.7540\n",
            "Epoch 82/200\n",
            "66/66 [==============================] - 39s 596ms/step - loss: 0.7506 - accuracy: 0.7597 - val_loss: 0.7247 - val_accuracy: 0.7768\n",
            "Epoch 83/200\n",
            "66/66 [==============================] - 40s 605ms/step - loss: 0.7335 - accuracy: 0.7437 - val_loss: 0.7279 - val_accuracy: 0.7790\n",
            "Epoch 84/200\n",
            "66/66 [==============================] - 40s 602ms/step - loss: 0.7413 - accuracy: 0.7620 - val_loss: 0.8654 - val_accuracy: 0.7403\n",
            "Epoch 85/200\n",
            "66/66 [==============================] - 39s 599ms/step - loss: 0.7308 - accuracy: 0.7490 - val_loss: 0.8153 - val_accuracy: 0.7677\n",
            "Epoch 86/200\n",
            "66/66 [==============================] - 40s 601ms/step - loss: 0.7124 - accuracy: 0.7650 - val_loss: 0.7972 - val_accuracy: 0.7631\n",
            "Epoch 87/200\n",
            "66/66 [==============================] - 40s 601ms/step - loss: 0.7061 - accuracy: 0.7726 - val_loss: 0.6351 - val_accuracy: 0.8269\n",
            "Epoch 88/200\n",
            "66/66 [==============================] - 44s 672ms/step - loss: 0.6949 - accuracy: 0.7764 - val_loss: 0.7947 - val_accuracy: 0.7517\n",
            "Epoch 89/200\n",
            "66/66 [==============================] - 52s 776ms/step - loss: 0.6688 - accuracy: 0.7909 - val_loss: 0.6810 - val_accuracy: 0.7836\n",
            "Epoch 90/200\n",
            "66/66 [==============================] - 39s 598ms/step - loss: 0.6769 - accuracy: 0.7787 - val_loss: 0.6563 - val_accuracy: 0.8155\n",
            "Epoch 91/200\n",
            "66/66 [==============================] - 40s 610ms/step - loss: 0.6871 - accuracy: 0.7734 - val_loss: 0.6968 - val_accuracy: 0.7904\n",
            "Epoch 92/200\n",
            "66/66 [==============================] - 41s 624ms/step - loss: 0.6955 - accuracy: 0.7711 - val_loss: 0.6684 - val_accuracy: 0.7973\n",
            "Epoch 93/200\n",
            "66/66 [==============================] - 39s 596ms/step - loss: 0.6617 - accuracy: 0.7848 - val_loss: 0.9186 - val_accuracy: 0.7084\n",
            "Epoch 94/200\n",
            "66/66 [==============================] - 39s 597ms/step - loss: 0.6553 - accuracy: 0.7992 - val_loss: 0.9328 - val_accuracy: 0.7198\n",
            "Epoch 95/200\n",
            "66/66 [==============================] - 39s 593ms/step - loss: 0.6287 - accuracy: 0.8144 - val_loss: 0.7327 - val_accuracy: 0.7882\n",
            "Epoch 96/200\n",
            "66/66 [==============================] - 40s 601ms/step - loss: 0.6200 - accuracy: 0.7970 - val_loss: 0.8551 - val_accuracy: 0.7335\n",
            "Epoch 97/200\n",
            "66/66 [==============================] - 39s 595ms/step - loss: 0.6451 - accuracy: 0.7886 - val_loss: 0.6879 - val_accuracy: 0.7904\n",
            "Epoch 98/200\n",
            "66/66 [==============================] - 39s 597ms/step - loss: 0.6133 - accuracy: 0.8038 - val_loss: 0.5421 - val_accuracy: 0.8497\n",
            "Epoch 99/200\n",
            "66/66 [==============================] - 39s 596ms/step - loss: 0.6077 - accuracy: 0.8114 - val_loss: 0.5774 - val_accuracy: 0.8064\n",
            "Epoch 100/200\n",
            "66/66 [==============================] - 39s 595ms/step - loss: 0.5973 - accuracy: 0.8152 - val_loss: 0.8252 - val_accuracy: 0.7449\n",
            "Epoch 101/200\n",
            "66/66 [==============================] - 40s 600ms/step - loss: 0.6069 - accuracy: 0.8061 - val_loss: 0.6412 - val_accuracy: 0.8223\n",
            "Epoch 102/200\n",
            "66/66 [==============================] - 39s 598ms/step - loss: 0.6121 - accuracy: 0.8023 - val_loss: 0.6480 - val_accuracy: 0.8109\n",
            "Epoch 103/200\n",
            "66/66 [==============================] - 40s 600ms/step - loss: 0.5834 - accuracy: 0.8160 - val_loss: 0.7746 - val_accuracy: 0.7608\n",
            "Epoch 104/200\n",
            "66/66 [==============================] - 40s 601ms/step - loss: 0.5689 - accuracy: 0.8243 - val_loss: 0.8182 - val_accuracy: 0.7563\n",
            "Epoch 105/200\n",
            "66/66 [==============================] - 40s 601ms/step - loss: 0.5853 - accuracy: 0.8061 - val_loss: 0.5670 - val_accuracy: 0.8269\n",
            "Epoch 106/200\n",
            "66/66 [==============================] - 39s 597ms/step - loss: 0.5830 - accuracy: 0.8144 - val_loss: 0.7340 - val_accuracy: 0.7699\n",
            "Epoch 107/200\n",
            "66/66 [==============================] - 39s 597ms/step - loss: 0.5876 - accuracy: 0.8190 - val_loss: 0.6128 - val_accuracy: 0.8178\n",
            "Epoch 108/200\n",
            "66/66 [==============================] - 39s 596ms/step - loss: 0.5850 - accuracy: 0.8114 - val_loss: 0.5896 - val_accuracy: 0.8178\n",
            "Epoch 109/200\n",
            "66/66 [==============================] - 39s 597ms/step - loss: 0.5380 - accuracy: 0.8274 - val_loss: 0.6040 - val_accuracy: 0.8155\n",
            "Epoch 110/200\n",
            "66/66 [==============================] - 39s 598ms/step - loss: 0.5506 - accuracy: 0.8289 - val_loss: 0.5029 - val_accuracy: 0.8565\n",
            "Epoch 111/200\n",
            "66/66 [==============================] - 39s 596ms/step - loss: 0.5544 - accuracy: 0.8213 - val_loss: 0.5704 - val_accuracy: 0.8246\n",
            "Epoch 112/200\n",
            "66/66 [==============================] - 39s 596ms/step - loss: 0.5448 - accuracy: 0.8312 - val_loss: 0.4886 - val_accuracy: 0.8405\n",
            "Epoch 113/200\n",
            "66/66 [==============================] - 40s 603ms/step - loss: 0.5129 - accuracy: 0.8373 - val_loss: 0.4890 - val_accuracy: 0.8497\n",
            "Epoch 114/200\n",
            "66/66 [==============================] - 39s 599ms/step - loss: 0.5116 - accuracy: 0.8418 - val_loss: 0.5071 - val_accuracy: 0.8610\n",
            "Epoch 115/200\n",
            "66/66 [==============================] - 39s 596ms/step - loss: 0.5045 - accuracy: 0.8395 - val_loss: 0.6814 - val_accuracy: 0.7927\n",
            "Epoch 116/200\n",
            "66/66 [==============================] - 39s 595ms/step - loss: 0.5128 - accuracy: 0.8380 - val_loss: 0.8869 - val_accuracy: 0.7084\n",
            "Epoch 117/200\n",
            "66/66 [==============================] - 40s 599ms/step - loss: 0.4899 - accuracy: 0.8548 - val_loss: 0.5804 - val_accuracy: 0.8383\n",
            "Epoch 118/200\n",
            "66/66 [==============================] - 39s 598ms/step - loss: 0.5114 - accuracy: 0.8312 - val_loss: 0.4838 - val_accuracy: 0.8542\n",
            "Epoch 119/200\n",
            "66/66 [==============================] - 39s 599ms/step - loss: 0.5044 - accuracy: 0.8395 - val_loss: 0.5205 - val_accuracy: 0.8405\n",
            "Epoch 120/200\n",
            "66/66 [==============================] - 39s 596ms/step - loss: 0.4626 - accuracy: 0.8555 - val_loss: 0.5651 - val_accuracy: 0.8383\n",
            "Epoch 121/200\n",
            "66/66 [==============================] - 40s 599ms/step - loss: 0.4853 - accuracy: 0.8441 - val_loss: 0.4926 - val_accuracy: 0.8519\n",
            "Epoch 122/200\n",
            "66/66 [==============================] - 40s 600ms/step - loss: 0.4822 - accuracy: 0.8426 - val_loss: 0.4642 - val_accuracy: 0.8633\n",
            "Epoch 123/200\n",
            "66/66 [==============================] - 39s 598ms/step - loss: 0.4729 - accuracy: 0.8487 - val_loss: 0.5534 - val_accuracy: 0.8246\n",
            "Epoch 124/200\n",
            "66/66 [==============================] - 39s 597ms/step - loss: 0.4458 - accuracy: 0.8593 - val_loss: 0.4343 - val_accuracy: 0.8610\n",
            "Epoch 125/200\n",
            "66/66 [==============================] - 39s 598ms/step - loss: 0.4589 - accuracy: 0.8502 - val_loss: 0.5481 - val_accuracy: 0.8405\n",
            "Epoch 126/200\n",
            "66/66 [==============================] - 40s 600ms/step - loss: 0.4605 - accuracy: 0.8593 - val_loss: 0.4851 - val_accuracy: 0.8633\n",
            "Epoch 127/200\n",
            "66/66 [==============================] - 39s 598ms/step - loss: 0.4289 - accuracy: 0.8624 - val_loss: 0.5396 - val_accuracy: 0.8360\n",
            "Epoch 128/200\n",
            "66/66 [==============================] - 40s 601ms/step - loss: 0.4563 - accuracy: 0.8593 - val_loss: 0.6341 - val_accuracy: 0.8087\n",
            "Epoch 129/200\n",
            "66/66 [==============================] - 40s 607ms/step - loss: 0.4258 - accuracy: 0.8669 - val_loss: 0.4690 - val_accuracy: 0.8565\n",
            "Epoch 130/200\n",
            "66/66 [==============================] - 40s 612ms/step - loss: 0.4623 - accuracy: 0.8578 - val_loss: 0.3914 - val_accuracy: 0.8838\n",
            "Epoch 131/200\n",
            "66/66 [==============================] - 41s 617ms/step - loss: 0.4175 - accuracy: 0.8783 - val_loss: 0.5680 - val_accuracy: 0.8314\n",
            "Epoch 132/200\n",
            "66/66 [==============================] - 40s 607ms/step - loss: 0.4328 - accuracy: 0.8646 - val_loss: 0.4307 - val_accuracy: 0.8679\n",
            "Epoch 133/200\n",
            "66/66 [==============================] - 40s 604ms/step - loss: 0.4519 - accuracy: 0.8517 - val_loss: 0.3641 - val_accuracy: 0.8838\n",
            "Epoch 134/200\n",
            "66/66 [==============================] - 40s 601ms/step - loss: 0.4228 - accuracy: 0.8601 - val_loss: 0.3968 - val_accuracy: 0.8679\n",
            "Epoch 135/200\n",
            "66/66 [==============================] - 40s 603ms/step - loss: 0.4208 - accuracy: 0.8646 - val_loss: 0.4525 - val_accuracy: 0.8474\n",
            "Epoch 136/200\n",
            "66/66 [==============================] - 40s 603ms/step - loss: 0.4113 - accuracy: 0.8707 - val_loss: 0.5535 - val_accuracy: 0.8178\n",
            "Epoch 137/200\n",
            "66/66 [==============================] - 40s 608ms/step - loss: 0.4099 - accuracy: 0.8646 - val_loss: 0.3370 - val_accuracy: 0.8929\n",
            "Epoch 138/200\n",
            "66/66 [==============================] - 40s 602ms/step - loss: 0.4134 - accuracy: 0.8798 - val_loss: 0.4196 - val_accuracy: 0.8724\n",
            "Epoch 139/200\n",
            "66/66 [==============================] - 40s 602ms/step - loss: 0.4099 - accuracy: 0.8753 - val_loss: 0.4254 - val_accuracy: 0.8633\n",
            "Epoch 140/200\n",
            "66/66 [==============================] - 40s 601ms/step - loss: 0.3777 - accuracy: 0.8768 - val_loss: 0.4396 - val_accuracy: 0.8633\n",
            "Epoch 141/200\n",
            "66/66 [==============================] - 40s 602ms/step - loss: 0.3892 - accuracy: 0.8806 - val_loss: 0.3412 - val_accuracy: 0.9021\n",
            "Epoch 142/200\n",
            "66/66 [==============================] - 40s 602ms/step - loss: 0.3906 - accuracy: 0.8768 - val_loss: 0.4315 - val_accuracy: 0.8588\n",
            "Epoch 143/200\n",
            "66/66 [==============================] - 40s 603ms/step - loss: 0.4034 - accuracy: 0.8768 - val_loss: 0.4333 - val_accuracy: 0.8679\n",
            "Epoch 144/200\n",
            "66/66 [==============================] - 40s 601ms/step - loss: 0.3630 - accuracy: 0.8973 - val_loss: 0.3752 - val_accuracy: 0.8838\n",
            "Epoch 145/200\n",
            "66/66 [==============================] - 40s 602ms/step - loss: 0.3781 - accuracy: 0.8882 - val_loss: 0.3467 - val_accuracy: 0.8907\n",
            "Epoch 146/200\n",
            "66/66 [==============================] - 39s 598ms/step - loss: 0.3575 - accuracy: 0.8913 - val_loss: 0.3511 - val_accuracy: 0.8838\n",
            "Epoch 147/200\n",
            "66/66 [==============================] - 40s 602ms/step - loss: 0.3580 - accuracy: 0.8935 - val_loss: 0.4061 - val_accuracy: 0.8588\n",
            "Epoch 148/200\n",
            "66/66 [==============================] - 40s 603ms/step - loss: 0.4155 - accuracy: 0.8586 - val_loss: 0.5238 - val_accuracy: 0.8314\n",
            "Epoch 149/200\n",
            "66/66 [==============================] - 39s 597ms/step - loss: 0.3770 - accuracy: 0.8844 - val_loss: 0.3346 - val_accuracy: 0.8907\n",
            "Epoch 150/200\n",
            "66/66 [==============================] - 39s 598ms/step - loss: 0.3760 - accuracy: 0.8875 - val_loss: 0.5114 - val_accuracy: 0.8360\n",
            "Epoch 151/200\n",
            "66/66 [==============================] - 40s 600ms/step - loss: 0.3413 - accuracy: 0.9118 - val_loss: 0.6657 - val_accuracy: 0.7768\n",
            "Epoch 152/200\n",
            "66/66 [==============================] - 39s 595ms/step - loss: 0.3528 - accuracy: 0.8783 - val_loss: 0.3561 - val_accuracy: 0.8861\n",
            "Epoch 153/200\n",
            "66/66 [==============================] - 40s 599ms/step - loss: 0.3648 - accuracy: 0.8829 - val_loss: 0.3944 - val_accuracy: 0.8588\n",
            "Epoch 154/200\n",
            "66/66 [==============================] - 39s 596ms/step - loss: 0.3304 - accuracy: 0.9004 - val_loss: 0.3146 - val_accuracy: 0.8998\n",
            "Epoch 155/200\n",
            "66/66 [==============================] - 39s 594ms/step - loss: 0.3475 - accuracy: 0.8814 - val_loss: 0.4053 - val_accuracy: 0.8542\n",
            "Epoch 156/200\n",
            "66/66 [==============================] - 39s 597ms/step - loss: 0.3515 - accuracy: 0.8905 - val_loss: 0.3472 - val_accuracy: 0.8838\n",
            "Epoch 157/200\n",
            "66/66 [==============================] - 40s 601ms/step - loss: 0.3209 - accuracy: 0.9019 - val_loss: 0.3327 - val_accuracy: 0.8838\n",
            "Epoch 158/200\n",
            "66/66 [==============================] - 40s 604ms/step - loss: 0.3419 - accuracy: 0.8951 - val_loss: 0.7931 - val_accuracy: 0.7153\n",
            "Epoch 159/200\n",
            "66/66 [==============================] - 40s 603ms/step - loss: 0.2961 - accuracy: 0.9057 - val_loss: 0.3807 - val_accuracy: 0.8747\n",
            "Epoch 160/200\n",
            "66/66 [==============================] - 39s 597ms/step - loss: 0.3146 - accuracy: 0.9034 - val_loss: 0.3044 - val_accuracy: 0.8907\n",
            "Epoch 161/200\n",
            "66/66 [==============================] - 40s 599ms/step - loss: 0.3605 - accuracy: 0.8798 - val_loss: 0.4984 - val_accuracy: 0.8360\n",
            "Epoch 162/200\n",
            "66/66 [==============================] - 39s 596ms/step - loss: 0.3258 - accuracy: 0.9019 - val_loss: 0.3005 - val_accuracy: 0.9043\n",
            "Epoch 163/200\n",
            "66/66 [==============================] - 39s 598ms/step - loss: 0.2844 - accuracy: 0.9217 - val_loss: 0.3201 - val_accuracy: 0.8998\n",
            "Epoch 164/200\n",
            "66/66 [==============================] - 39s 598ms/step - loss: 0.3239 - accuracy: 0.9049 - val_loss: 0.4059 - val_accuracy: 0.8702\n",
            "Epoch 165/200\n",
            "66/66 [==============================] - 39s 597ms/step - loss: 0.3034 - accuracy: 0.9072 - val_loss: 0.4433 - val_accuracy: 0.8610\n",
            "Epoch 166/200\n",
            "66/66 [==============================] - 40s 600ms/step - loss: 0.2726 - accuracy: 0.9141 - val_loss: 0.5211 - val_accuracy: 0.8292\n",
            "Epoch 167/200\n",
            "66/66 [==============================] - 40s 603ms/step - loss: 0.3018 - accuracy: 0.8996 - val_loss: 0.3273 - val_accuracy: 0.8907\n",
            "Epoch 168/200\n",
            "66/66 [==============================] - 39s 597ms/step - loss: 0.2992 - accuracy: 0.9087 - val_loss: 0.2667 - val_accuracy: 0.9157\n",
            "Epoch 169/200\n",
            "66/66 [==============================] - 39s 597ms/step - loss: 0.2950 - accuracy: 0.9118 - val_loss: 0.2925 - val_accuracy: 0.9021\n",
            "Epoch 170/200\n",
            "66/66 [==============================] - 40s 607ms/step - loss: 0.2715 - accuracy: 0.9141 - val_loss: 0.3451 - val_accuracy: 0.8770\n",
            "Epoch 171/200\n",
            "66/66 [==============================] - 40s 607ms/step - loss: 0.2641 - accuracy: 0.9217 - val_loss: 0.3208 - val_accuracy: 0.8998\n",
            "Epoch 172/200\n",
            "66/66 [==============================] - 40s 599ms/step - loss: 0.2794 - accuracy: 0.9194 - val_loss: 0.5060 - val_accuracy: 0.8246\n",
            "Epoch 173/200\n",
            "66/66 [==============================] - 39s 598ms/step - loss: 0.2872 - accuracy: 0.9087 - val_loss: 0.2747 - val_accuracy: 0.9226\n",
            "Epoch 174/200\n",
            "66/66 [==============================] - 39s 598ms/step - loss: 0.2832 - accuracy: 0.9118 - val_loss: 0.3184 - val_accuracy: 0.9066\n",
            "Epoch 175/200\n",
            "66/66 [==============================] - 39s 596ms/step - loss: 0.2745 - accuracy: 0.9103 - val_loss: 0.3117 - val_accuracy: 0.8975\n",
            "Epoch 176/200\n",
            "66/66 [==============================] - 39s 598ms/step - loss: 0.2601 - accuracy: 0.9240 - val_loss: 0.3099 - val_accuracy: 0.8975\n",
            "Epoch 177/200\n",
            "66/66 [==============================] - 39s 598ms/step - loss: 0.2751 - accuracy: 0.9133 - val_loss: 0.3234 - val_accuracy: 0.8952\n",
            "Epoch 178/200\n",
            "66/66 [==============================] - 40s 608ms/step - loss: 0.2715 - accuracy: 0.9163 - val_loss: 0.2898 - val_accuracy: 0.9043\n",
            "Epoch 179/200\n",
            "66/66 [==============================] - 40s 599ms/step - loss: 0.2821 - accuracy: 0.9103 - val_loss: 0.3037 - val_accuracy: 0.8975\n",
            "Epoch 180/200\n",
            "66/66 [==============================] - 39s 598ms/step - loss: 0.2436 - accuracy: 0.9293 - val_loss: 0.4993 - val_accuracy: 0.8292\n",
            "Epoch 181/200\n",
            "66/66 [==============================] - 39s 598ms/step - loss: 0.2640 - accuracy: 0.9194 - val_loss: 0.2460 - val_accuracy: 0.9203\n",
            "Epoch 182/200\n",
            "66/66 [==============================] - 39s 597ms/step - loss: 0.2671 - accuracy: 0.9202 - val_loss: 0.2523 - val_accuracy: 0.9271\n",
            "Epoch 183/200\n",
            "66/66 [==============================] - 39s 599ms/step - loss: 0.2591 - accuracy: 0.9240 - val_loss: 0.2998 - val_accuracy: 0.9043\n",
            "Epoch 184/200\n",
            "66/66 [==============================] - 39s 599ms/step - loss: 0.2729 - accuracy: 0.9072 - val_loss: 0.2570 - val_accuracy: 0.9134\n",
            "Epoch 185/200\n",
            "66/66 [==============================] - 40s 601ms/step - loss: 0.2907 - accuracy: 0.9057 - val_loss: 0.5697 - val_accuracy: 0.8041\n",
            "Epoch 186/200\n",
            "66/66 [==============================] - 40s 603ms/step - loss: 0.2587 - accuracy: 0.9156 - val_loss: 0.2963 - val_accuracy: 0.9089\n",
            "Epoch 187/200\n",
            "66/66 [==============================] - 39s 597ms/step - loss: 0.2521 - accuracy: 0.9232 - val_loss: 0.3124 - val_accuracy: 0.8975\n",
            "Epoch 188/200\n",
            "66/66 [==============================] - 39s 596ms/step - loss: 0.2644 - accuracy: 0.9262 - val_loss: 0.2270 - val_accuracy: 0.9317\n",
            "Epoch 189/200\n",
            "66/66 [==============================] - 40s 604ms/step - loss: 0.2555 - accuracy: 0.9232 - val_loss: 0.4295 - val_accuracy: 0.8542\n",
            "Epoch 190/200\n",
            "66/66 [==============================] - 40s 602ms/step - loss: 0.2246 - accuracy: 0.9384 - val_loss: 0.3490 - val_accuracy: 0.8952\n",
            "Epoch 191/200\n",
            "66/66 [==============================] - 40s 604ms/step - loss: 0.2638 - accuracy: 0.9148 - val_loss: 0.2200 - val_accuracy: 0.9317\n",
            "Epoch 192/200\n",
            "66/66 [==============================] - 40s 602ms/step - loss: 0.2489 - accuracy: 0.9156 - val_loss: 0.3212 - val_accuracy: 0.9043\n",
            "Epoch 193/200\n",
            "66/66 [==============================] - 39s 599ms/step - loss: 0.2148 - accuracy: 0.9323 - val_loss: 0.5125 - val_accuracy: 0.8132\n",
            "Epoch 194/200\n",
            "66/66 [==============================] - 40s 607ms/step - loss: 0.2232 - accuracy: 0.9285 - val_loss: 0.2569 - val_accuracy: 0.9180\n",
            "Epoch 195/200\n",
            "66/66 [==============================] - 40s 602ms/step - loss: 0.2089 - accuracy: 0.9346 - val_loss: 0.2304 - val_accuracy: 0.9248\n",
            "Epoch 196/200\n",
            "66/66 [==============================] - 40s 609ms/step - loss: 0.2587 - accuracy: 0.9133 - val_loss: 0.4824 - val_accuracy: 0.8314\n",
            "Epoch 197/200\n",
            "66/66 [==============================] - 40s 605ms/step - loss: 0.2441 - accuracy: 0.9171 - val_loss: 0.5970 - val_accuracy: 0.8018\n",
            "Epoch 198/200\n",
            "66/66 [==============================] - 40s 607ms/step - loss: 0.2383 - accuracy: 0.9224 - val_loss: 0.5619 - val_accuracy: 0.8087\n",
            "Epoch 199/200\n",
            "66/66 [==============================] - 40s 605ms/step - loss: 0.2647 - accuracy: 0.9133 - val_loss: 0.2714 - val_accuracy: 0.9021\n",
            "Epoch 200/200\n",
            "66/66 [==============================] - 40s 603ms/step - loss: 0.2137 - accuracy: 0.9323 - val_loss: 0.2493 - val_accuracy: 0.9271\n"
          ]
        }
      ],
      "source": [
        "#training data\n",
        "H = model.fit(trainX, trainY, validation_data=(testX, testY), epochs=200, batch_size=20)"
      ]
    },
    {
      "cell_type": "code",
      "execution_count": null,
      "metadata": {
        "id": "9pPcYJpxXNkR",
        "colab": {
          "base_uri": "https://localhost:8080/",
          "height": 88
        },
        "outputId": "fcaca76a-5539-4861-d428-46619dc694d7"
      },
      "outputs": [
        {
          "output_type": "stream",
          "name": "stdout",
          "text": [
            "dict_keys(['loss', 'accuracy', 'val_loss', 'val_accuracy'])\n"
          ]
        },
        {
          "output_type": "display_data",
          "data": {
            "image/png": "[encoded data removed]",
            "text/plain": [
              "<Figure size 432x288 with 1 Axes>"
            ]
          },
          "metadata": {
            "needs_background": "light"
          }
        },
        {
          "output_type": "display_data",
          "data": {
            "image/png": "[encoded data removed]",
            "text/plain": [
              "<Figure size 432x288 with 1 Axes>"
            ]
          },
          "metadata": {
            "needs_background": "light"
          }
        }
      ],
      "source": [
        "import matplotlib.pyplot as plt\n",
        "\n",
        "print(H.history.keys())\n",
        "# summarize history for accuracy\n",
        "plt.plot(H.history['accuracy'])\n",
        "plt.plot(H.history['val_accuracy'])\n",
        "plt.title('MODEL ACCURACY')\n",
        "plt.ylabel('Accuracy')\n",
        "plt.xlabel('Epoch')\n",
        "plt.legend(['Training Data', 'Testing Data'], loc='lower right')\n",
        "X = np.linspace(0, 100, 100)\n",
        "plt.ylim(.1, 1)\n",
        "plt.show()\n",
        "# summarize history for loss\n",
        "plt.plot(H.history['loss'])\n",
        "plt.plot(H.history['val_loss'])\n",
        "plt.title('MODEL LOSS')\n",
        "plt.ylabel('Loss')\n",
        "plt.xlabel('Epoch')\n",
        "plt.legend(['Training Data', 'Testing Data'], loc='lower right')\n",
        "X = np.linspace(0, 100, 100)\n",
        "plt.ylim(.1, 2)\n",
        "plt.show()"
      ]
    },
    {
      "cell_type": "code",
      "execution_count": null,
      "metadata": {
        "id": "V7j0jPoKqifI",
        "colab": {
          "base_uri": "https://localhost:8080/"
        },
        "outputId": "19d801f6-f178-4282-ca16-f7273072acb1"
      },
      "outputs": [
        {
          "output_type": "stream",
          "name": "stdout",
          "text": [
            "[INFO] evaluating network...\n",
            "WARNING:tensorflow:Model was constructed with shape (None, None, None, 3) for input KerasTensor(type_spec=TensorSpec(shape=(None, None, None, 3), dtype=tf.float32, name='input_1'), name='input_1', description=\"created by layer 'input_1'\"), but it was called on an input with incompatible shape (None, 64, 64, 1).\n",
            "[[2.4262924e-01 3.4987316e-02 9.5793121e-02 ... 1.8680608e-02\n",
            "  5.6878668e-01 5.7050604e-03]\n",
            " [3.6993019e-02 3.3228542e-03 2.4781355e-01 ... 1.7990984e-02\n",
            "  6.5854287e-01 2.8010806e-02]\n",
            " [1.1954609e-02 2.9175000e-02 1.3263323e-02 ... 1.3219190e-01\n",
            "  5.5145171e-02 1.7375531e-02]\n",
            " ...\n",
            " [2.8856145e-04 1.7081902e-03 1.2242021e-03 ... 3.1062874e-03\n",
            "  2.0987699e-03 1.1861482e-04]\n",
            " [1.7910586e-04 1.5015900e-03 8.6376512e-01 ... 2.8041849e-04\n",
            "  9.1692388e-02 1.0407947e-02]\n",
            " [4.2664827e-04 2.0531819e-03 4.7875275e-03 ... 9.6743600e-04\n",
            "  9.5896363e-01 2.2383645e-02]]\n",
            "[[0 0 0 ... 0 1 0]\n",
            " [0 0 0 ... 0 1 0]\n",
            " [0 0 0 ... 0 0 0]\n",
            " ...\n",
            " [0 0 0 ... 0 0 0]\n",
            " [0 0 1 ... 0 0 0]\n",
            " [0 0 0 ... 0 1 0]]\n",
            "              precision    recall  f1-score   support\n",
            "\n",
            "       angry       0.90      0.89      0.89        62\n",
            "     disgust       0.96      0.88      0.92        74\n",
            "        fear       0.94      0.97      0.96        66\n",
            "       happy       0.91      0.94      0.92        64\n",
            "     neutral       1.00      0.96      0.98        51\n",
            "         sad       0.82      0.88      0.85        67\n",
            "    surprise       1.00      1.00      1.00        55\n",
            "\n",
            "    accuracy                           0.93       439\n",
            "   macro avg       0.93      0.93      0.93       439\n",
            "weighted avg       0.93      0.93      0.93       439\n",
            "\n"
          ]
        }
      ],
      "source": [
        "# evaluate the network\n",
        "print(\"[INFO] evaluating network...\")\n",
        "target_names=['angry','disgust','fear','happy','neutral','sad','surprise']\n",
        "predictions = model.predict(testX, batch_size=32)\n",
        "print(predictions)\n",
        "print(testY)\n",
        "print(classification_report(testY.argmax(axis=1),\n",
        "  predictions.argmax(axis=1), target_names=target_names))"
      ]
    },
    {
      "cell_type": "code",
      "execution_count": null,
      "metadata": {
        "id": "C3PzEDWaFMBo",
        "colab": {
          "base_uri": "https://localhost:8080/"
        },
        "outputId": "bf0a8896-cbb4-4e3b-afd3-acfaacd35fc9"
      },
      "outputs": [
        {
          "output_type": "display_data",
          "data": {
            "image/png": "[encoded data removed]",
            "text/plain": [
              "<Figure size 432x288 with 2 Axes>"
            ]
          },
          "metadata": {
            "needs_background": "light"
          }
        }
      ],
      "source": [
        "import sklearn.metrics as metrics\n",
        "import seaborn as sn\n",
        "import matplotlib.pyplot as plt\n",
        "confusion_matrix = metrics.confusion_matrix(testY.argmax(axis=1),predictions.argmax(axis=1))\n",
        "x_axis_labels = ['angry','disgust','fear','happy','neutral','sad','surprise']\n",
        "y_axis_labels = ['angry','disgust','fear','happy','neutral','sad','surprise']\n",
        "sn.heatmap(confusion_matrix, xticklabels=x_axis_labels, yticklabels=y_axis_labels, annot=True, fmt='d')\n",
        "plt.xlabel('Predicted')\n",
        "plt.ylabel('True')\n",
        "plt.tight_layout()\n",
        "plt.show()"
      ]
    },
    {
      "cell_type": "code",
      "execution_count": null,
      "metadata": {
        "id": "k1tuemfKqotn"
      },
      "outputs": [],
      "source": [
        ""
      ]
    }
  ],
  "metadata": {
    "colab": {
      "collapsed_sections": [],
      "name": "EfficientNet_64x64_lr(0.000003)_Nadam.ipynb",
      "provenance": [],
      "include_colab_link": true
    },
    "kernelspec": {
      "display_name": "Python 3",
      "name": "python3"
    },
    "language_info": {
      "name": "python"
    }
  },
  "nbformat": 4,
  "nbformat_minor": 0
}