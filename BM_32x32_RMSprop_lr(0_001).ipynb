{
  "nbformat": 4,
  "nbformat_minor": 0,
  "metadata": {
    "colab": {
      "name": "BM_32x32_RMSprop_lr(0.001).ipynb",
      "provenance": [],
      "collapsed_sections": [],
      "authorship_tag": "ABX9TyO4SabIRCtWcRYdH/ohMqx7",
      "include_colab_link": true
    },
    "kernelspec": {
      "display_name": "Python 3",
      "name": "python3"
    },
    "language_info": {
      "name": "python"
    }
  },
  "cells": [
    {
      "cell_type": "markdown",
      "metadata": {
        "id": "view-in-github",
        "colab_type": "text"
      },
      "source": [
        "<a href=\"https://colab.research.google.com/github/nathanielgtg/Facial-Expressions-Recognition-Using-Convolutional-Neural-Network/blob/NNN-Net/BM_32x32_RMSprop_lr(0_001).ipynb\" target=\"_parent\"><img src=\"https://colab.research.google.com/assets/colab-badge.svg\" alt=\"Open In Colab\"/></a>"
      ]
    },
    {
      "cell_type": "code",
      "metadata": {
        "id": "Z7CQkVUsjVb8"
      },
      "source": [
        "from google.colab import drive\n"
      ],
      "execution_count": null,
      "outputs": []
    },
    {
      "cell_type": "code",
      "metadata": {
        "colab": {
          "base_uri": "https://localhost:8080/"
        },
        "id": "lPAnhoLYnedr",
        "outputId": "b06aba22-2922-4581-fba2-18cee161b51b"
      },
      "source": [
        "drive.mount('/content/drive')"
      ],
      "execution_count": null,
      "outputs": [
        {
          "output_type": "stream",
          "name": "stdout",
          "text": [
            "Mounted at /content/drive\n"
          ]
        }
      ]
    },
    {
      "cell_type": "code",
      "metadata": {
        "colab": {
          "base_uri": "https://localhost:8080/"
        },
        "id": "RWli2YJjsFqd",
        "outputId": "06e9dd53-02f6-437d-d2c7-7aebca46eb89"
      },
      "source": [
        "cd /content/drive/My Drive/Colab-Notebook"
      ],
      "execution_count": null,
      "outputs": [
        {
          "output_type": "stream",
          "name": "stdout",
          "text": [
            "/content/drive/My Drive/Colab-Notebook\n"
          ]
        }
      ]
    },
    {
      "cell_type": "code",
      "metadata": {
        "colab": {
          "base_uri": "https://localhost:8080/"
        },
        "id": "aL3SRChZsOgE",
        "outputId": "a2a1db68-df3c-4bd7-f4c5-0ec612e099e6"
      },
      "source": [
        "ls"
      ],
      "execution_count": null,
      "outputs": [
        {
          "output_type": "stream",
          "name": "stdout",
          "text": [
            "\u001b[0m\u001b[01;34mCK+48\u001b[0m/\n"
          ]
        }
      ]
    },
    {
      "cell_type": "code",
      "metadata": {
        "id": "nl7i3mQss8Xw"
      },
      "source": [
        "# import the necessary packages\n",
        "from keras.models import Sequential\n",
        "from keras.layers.convolutional import Conv2D\n",
        "from keras.layers.convolutional import MaxPooling2D\n",
        "from keras.layers.core import Activation\n",
        "from keras.layers.core import Flatten\n",
        "from keras.layers.core import Dense\n",
        "from keras.layers import Reshape\n",
        "from tensorflow.keras.optimizers import Adam, SGD, RMSprop\n",
        "from sklearn.preprocessing import LabelBinarizer\n",
        "from sklearn.model_selection import train_test_split\n",
        "from sklearn.metrics import classification_report\n",
        "from PIL import Image\n",
        "from keras import backend as K\n",
        "from imutils import paths\n",
        "from keras.layers import Dropout\n",
        "import numpy as np\n",
        "import os"
      ],
      "execution_count": null,
      "outputs": []
    },
    {
      "cell_type": "code",
      "metadata": {
        "colab": {
          "base_uri": "https://localhost:8080/"
        },
        "id": "vmE2TlTAtGhB",
        "outputId": "de580459-0199-4a87-ae0a-300548419700"
      },
      "source": [
        "# grab all image paths in the input dataset directory, then initialize\n",
        "# our list of images and corresponding class labels\n",
        "print(\"[INFO] loading images...\")\n",
        "imagePaths = paths.list_images(\"CK+48\")\n",
        "data = []\n",
        "labels = []\n"
      ],
      "execution_count": null,
      "outputs": [
        {
          "output_type": "stream",
          "name": "stdout",
          "text": [
            "[INFO] loading images...\n"
          ]
        }
      ]
    },
    {
      "cell_type": "code",
      "metadata": {
        "id": "yowCr6MgtXA-"
      },
      "source": [
        "for imagePath in imagePaths:\n",
        "  image = Image.open(imagePath)\n",
        "  image = np.array(image.resize((32, 32))) / 255.0\n",
        "  pixel = np.expand_dims(image, axis=0)\n",
        "  data.append(pixel)\n",
        "  label = imagePath.split(os.path.sep)[-2]\n",
        "  labels.append(label)"
      ],
      "execution_count": null,
      "outputs": []
    },
    {
      "cell_type": "code",
      "metadata": {
        "colab": {
          "base_uri": "https://localhost:8080/"
        },
        "id": "apGDCIn-vaGA",
        "outputId": "8cdc4625-919c-41c5-efc8-a9ecfb491700"
      },
      "source": [
        "print(labels)"
      ],
      "execution_count": null,
      "outputs": [
        {
          "output_type": "stream",
          "name": "stdout",
          "text": [
            "['surprise', 'surprise', 'surprise', 'surprise', 'surprise', 'surprise', 'surprise', 'surprise', 'surprise', 'surprise', 'surprise', 'surprise', 'surprise', 'surprise', 'surprise', 'surprise', 'surprise', 'surprise', 'surprise', 'surprise', 'surprise', 'surprise', 'surprise', 'surprise', 'surprise', 'surprise', 'surprise', 'surprise', 'surprise', 'surprise', 'surprise', 'surprise', 'surprise', 'surprise', 'surprise', 'surprise', 'surprise', 'surprise', 'surprise', 'surprise', 'surprise', 'surprise', 'surprise', 'surprise', 'surprise', 'surprise', 'surprise', 'surprise', 'surprise', 'surprise', 'surprise', 'surprise', 'surprise', 'surprise', 'surprise', 'surprise', 'surprise', 'surprise', 'surprise', 'surprise', 'surprise', 'surprise', 'surprise', 'surprise', 'surprise', 'surprise', 'surprise', 'surprise', 'surprise', 'surprise', 'surprise', 'surprise', 'surprise', 'surprise', 'surprise', 'surprise', 'surprise', 'surprise', 'surprise', 'surprise', 'surprise', 'surprise', 'surprise', 'surprise', 'surprise', 'surprise', 'surprise', 'surprise', 'surprise', 'surprise', 'surprise', 'surprise', 'surprise', 'surprise', 'surprise', 'surprise', 'surprise', 'surprise', 'surprise', 'surprise', 'surprise', 'surprise', 'surprise', 'surprise', 'surprise', 'surprise', 'surprise', 'surprise', 'surprise', 'surprise', 'surprise', 'surprise', 'surprise', 'surprise', 'surprise', 'surprise', 'surprise', 'surprise', 'surprise', 'surprise', 'surprise', 'surprise', 'surprise', 'surprise', 'surprise', 'surprise', 'surprise', 'surprise', 'surprise', 'surprise', 'surprise', 'surprise', 'surprise', 'surprise', 'surprise', 'surprise', 'surprise', 'surprise', 'surprise', 'surprise', 'surprise', 'surprise', 'surprise', 'surprise', 'surprise', 'surprise', 'surprise', 'surprise', 'surprise', 'surprise', 'surprise', 'surprise', 'surprise', 'surprise', 'surprise', 'surprise', 'surprise', 'surprise', 'surprise', 'surprise', 'surprise', 'surprise', 'surprise', 'surprise', 'surprise', 'surprise', 'surprise', 'surprise', 'surprise', 'surprise', 'surprise', 'surprise', 'surprise', 'surprise', 'surprise', 'surprise', 'surprise', 'surprise', 'surprise', 'surprise', 'surprise', 'surprise', 'surprise', 'surprise', 'surprise', 'surprise', 'surprise', 'surprise', 'surprise', 'surprise', 'surprise', 'surprise', 'surprise', 'surprise', 'surprise', 'surprise', 'surprise', 'surprise', 'surprise', 'surprise', 'surprise', 'surprise', 'surprise', 'surprise', 'surprise', 'surprise', 'surprise', 'surprise', 'surprise', 'surprise', 'surprise', 'surprise', 'surprise', 'surprise', 'surprise', 'surprise', 'surprise', 'surprise', 'surprise', 'surprise', 'surprise', 'surprise', 'surprise', 'surprise', 'surprise', 'surprise', 'surprise', 'surprise', 'surprise', 'surprise', 'surprise', 'surprise', 'surprise', 'surprise', 'surprise', 'surprise', 'surprise', 'surprise', 'surprise', 'surprise', 'surprise', 'surprise', 'surprise', 'surprise', 'surprise', 'surprise', 'surprise', 'surprise', 'surprise', 'contempt', 'contempt', 'contempt', 'contempt', 'contempt', 'contempt', 'contempt', 'contempt', 'contempt', 'contempt', 'contempt', 'contempt', 'contempt', 'contempt', 'contempt', 'contempt', 'contempt', 'contempt', 'contempt', 'contempt', 'contempt', 'contempt', 'contempt', 'contempt', 'contempt', 'contempt', 'contempt', 'contempt', 'contempt', 'contempt', 'contempt', 'contempt', 'contempt', 'contempt', 'contempt', 'contempt', 'contempt', 'contempt', 'contempt', 'contempt', 'contempt', 'contempt', 'contempt', 'contempt', 'contempt', 'contempt', 'contempt', 'contempt', 'contempt', 'contempt', 'contempt', 'contempt', 'contempt', 'contempt', 'contempt', 'contempt', 'contempt', 'contempt', 'contempt', 'contempt', 'contempt', 'contempt', 'contempt', 'contempt', 'contempt', 'contempt', 'contempt', 'contempt', 'contempt', 'contempt', 'contempt', 'contempt', 'contempt', 'contempt', 'contempt', 'contempt', 'contempt', 'contempt', 'contempt', 'contempt', 'contempt', 'contempt', 'contempt', 'contempt', 'contempt', 'contempt', 'contempt', 'contempt', 'contempt', 'contempt', 'contempt', 'contempt', 'contempt', 'contempt', 'contempt', 'contempt', 'contempt', 'contempt', 'contempt', 'contempt', 'contempt', 'contempt', 'contempt', 'contempt', 'contempt', 'contempt', 'contempt', 'contempt', 'contempt', 'contempt', 'contempt', 'contempt', 'contempt', 'contempt', 'contempt', 'contempt', 'contempt', 'contempt', 'contempt', 'contempt', 'contempt', 'contempt', 'contempt', 'contempt', 'contempt', 'contempt', 'contempt', 'contempt', 'contempt', 'contempt', 'contempt', 'contempt', 'contempt', 'contempt', 'contempt', 'contempt', 'contempt', 'contempt', 'contempt', 'contempt', 'contempt', 'contempt', 'contempt', 'contempt', 'contempt', 'contempt', 'contempt', 'contempt', 'contempt', 'contempt', 'contempt', 'contempt', 'contempt', 'contempt', 'contempt', 'contempt', 'contempt', 'contempt', 'contempt', 'contempt', 'contempt', 'contempt', 'contempt', 'contempt', 'contempt', 'contempt', 'contempt', 'contempt', 'contempt', 'contempt', 'contempt', 'contempt', 'contempt', 'contempt', 'contempt', 'contempt', 'contempt', 'contempt', 'contempt', 'contempt', 'contempt', 'contempt', 'contempt', 'contempt', 'contempt', 'contempt', 'contempt', 'contempt', 'contempt', 'contempt', 'contempt', 'contempt', 'contempt', 'contempt', 'contempt', 'contempt', 'contempt', 'contempt', 'contempt', 'contempt', 'contempt', 'contempt', 'contempt', 'contempt', 'contempt', 'contempt', 'contempt', 'contempt', 'contempt', 'contempt', 'contempt', 'contempt', 'contempt', 'contempt', 'contempt', 'contempt', 'contempt', 'contempt', 'contempt', 'contempt', 'contempt', 'contempt', 'contempt', 'contempt', 'contempt', 'contempt', 'contempt', 'contempt', 'contempt', 'contempt', 'contempt', 'contempt', 'contempt', 'contempt', 'contempt', 'contempt', 'contempt', 'contempt', 'contempt', 'contempt', 'contempt', 'contempt', 'contempt', 'contempt', 'contempt', 'contempt', 'contempt', 'contempt', 'contempt', 'contempt', 'happy', 'happy', 'happy', 'happy', 'happy', 'happy', 'happy', 'happy', 'happy', 'happy', 'happy', 'happy', 'happy', 'happy', 'happy', 'happy', 'happy', 'happy', 'happy', 'happy', 'happy', 'happy', 'happy', 'happy', 'happy', 'happy', 'happy', 'happy', 'happy', 'happy', 'happy', 'happy', 'happy', 'happy', 'happy', 'happy', 'happy', 'happy', 'happy', 'happy', 'happy', 'happy', 'happy', 'happy', 'happy', 'happy', 'happy', 'happy', 'happy', 'happy', 'happy', 'happy', 'happy', 'happy', 'happy', 'happy', 'happy', 'happy', 'happy', 'happy', 'happy', 'happy', 'happy', 'happy', 'happy', 'happy', 'happy', 'happy', 'happy', 'happy', 'happy', 'happy', 'happy', 'happy', 'happy', 'happy', 'happy', 'happy', 'happy', 'happy', 'happy', 'happy', 'happy', 'happy', 'happy', 'happy', 'happy', 'happy', 'happy', 'happy', 'happy', 'happy', 'happy', 'happy', 'happy', 'happy', 'happy', 'happy', 'happy', 'happy', 'happy', 'happy', 'happy', 'happy', 'happy', 'happy', 'happy', 'happy', 'happy', 'happy', 'happy', 'happy', 'happy', 'happy', 'happy', 'happy', 'happy', 'happy', 'happy', 'happy', 'happy', 'happy', 'happy', 'happy', 'happy', 'happy', 'happy', 'happy', 'happy', 'happy', 'happy', 'happy', 'happy', 'happy', 'happy', 'happy', 'happy', 'happy', 'happy', 'happy', 'happy', 'happy', 'happy', 'happy', 'happy', 'happy', 'happy', 'happy', 'happy', 'happy', 'happy', 'happy', 'happy', 'happy', 'happy', 'happy', 'happy', 'happy', 'happy', 'happy', 'happy', 'happy', 'happy', 'happy', 'happy', 'happy', 'happy', 'happy', 'happy', 'happy', 'happy', 'happy', 'happy', 'happy', 'happy', 'happy', 'happy', 'happy', 'happy', 'happy', 'happy', 'happy', 'happy', 'happy', 'happy', 'happy', 'happy', 'happy', 'happy', 'happy', 'happy', 'happy', 'happy', 'happy', 'happy', 'happy', 'happy', 'happy', 'happy', 'happy', 'happy', 'happy', 'happy', 'happy', 'happy', 'happy', 'happy', 'happy', 'happy', 'happy', 'happy', 'happy', 'happy', 'happy', 'happy', 'happy', 'happy', 'happy', 'happy', 'happy', 'happy', 'happy', 'happy', 'happy', 'happy', 'happy', 'happy', 'happy', 'happy', 'happy', 'happy', 'happy', 'happy', 'happy', 'happy', 'happy', 'happy', 'happy', 'happy', 'happy', 'happy', 'happy', 'happy', 'happy', 'happy', 'happy', 'happy', 'happy', 'happy', 'happy', 'happy', 'happy', 'sadness', 'sadness', 'sadness', 'sadness', 'sadness', 'sadness', 'sadness', 'sadness', 'sadness', 'sadness', 'sadness', 'sadness', 'sadness', 'sadness', 'sadness', 'sadness', 'sadness', 'sadness', 'sadness', 'sadness', 'sadness', 'sadness', 'sadness', 'sadness', 'sadness', 'sadness', 'sadness', 'sadness', 'sadness', 'sadness', 'sadness', 'sadness', 'sadness', 'sadness', 'sadness', 'sadness', 'sadness', 'sadness', 'sadness', 'sadness', 'sadness', 'sadness', 'sadness', 'sadness', 'sadness', 'sadness', 'sadness', 'sadness', 'sadness', 'sadness', 'sadness', 'sadness', 'sadness', 'sadness', 'sadness', 'sadness', 'sadness', 'sadness', 'sadness', 'sadness', 'sadness', 'sadness', 'sadness', 'sadness', 'sadness', 'sadness', 'sadness', 'sadness', 'sadness', 'sadness', 'sadness', 'sadness', 'sadness', 'sadness', 'sadness', 'sadness', 'sadness', 'sadness', 'sadness', 'sadness', 'sadness', 'sadness', 'sadness', 'sadness', 'sadness', 'sadness', 'sadness', 'sadness', 'sadness', 'sadness', 'sadness', 'sadness', 'sadness', 'sadness', 'sadness', 'sadness', 'sadness', 'sadness', 'sadness', 'sadness', 'sadness', 'sadness', 'sadness', 'sadness', 'sadness', 'sadness', 'sadness', 'sadness', 'sadness', 'sadness', 'sadness', 'sadness', 'sadness', 'sadness', 'sadness', 'sadness', 'sadness', 'sadness', 'sadness', 'sadness', 'sadness', 'sadness', 'sadness', 'sadness', 'sadness', 'sadness', 'sadness', 'sadness', 'sadness', 'sadness', 'sadness', 'sadness', 'sadness', 'sadness', 'sadness', 'sadness', 'sadness', 'sadness', 'sadness', 'sadness', 'sadness', 'sadness', 'sadness', 'sadness', 'sadness', 'sadness', 'sadness', 'sadness', 'sadness', 'sadness', 'sadness', 'sadness', 'sadness', 'sadness', 'sadness', 'sadness', 'sadness', 'sadness', 'sadness', 'sadness', 'sadness', 'sadness', 'sadness', 'sadness', 'sadness', 'sadness', 'sadness', 'sadness', 'sadness', 'sadness', 'sadness', 'sadness', 'sadness', 'sadness', 'sadness', 'sadness', 'sadness', 'sadness', 'sadness', 'sadness', 'sadness', 'sadness', 'sadness', 'sadness', 'sadness', 'sadness', 'sadness', 'sadness', 'sadness', 'sadness', 'sadness', 'sadness', 'sadness', 'sadness', 'sadness', 'sadness', 'sadness', 'sadness', 'sadness', 'sadness', 'sadness', 'sadness', 'sadness', 'sadness', 'sadness', 'sadness', 'sadness', 'sadness', 'sadness', 'sadness', 'sadness', 'sadness', 'sadness', 'sadness', 'sadness', 'sadness', 'sadness', 'sadness', 'sadness', 'sadness', 'sadness', 'sadness', 'sadness', 'sadness', 'sadness', 'sadness', 'sadness', 'sadness', 'sadness', 'sadness', 'sadness', 'sadness', 'sadness', 'sadness', 'sadness', 'sadness', 'sadness', 'sadness', 'sadness', 'sadness', 'sadness', 'sadness', 'sadness', 'sadness', 'sadness', 'sadness', 'sadness', 'sadness', 'sadness', 'sadness', 'anger', 'anger', 'anger', 'anger', 'anger', 'anger', 'anger', 'anger', 'anger', 'anger', 'anger', 'anger', 'anger', 'anger', 'anger', 'anger', 'anger', 'anger', 'anger', 'anger', 'anger', 'anger', 'anger', 'anger', 'anger', 'anger', 'anger', 'anger', 'anger', 'anger', 'anger', 'anger', 'anger', 'anger', 'anger', 'anger', 'anger', 'anger', 'anger', 'anger', 'anger', 'anger', 'anger', 'anger', 'anger', 'anger', 'anger', 'anger', 'anger', 'anger', 'anger', 'anger', 'anger', 'anger', 'anger', 'anger', 'anger', 'anger', 'anger', 'anger', 'anger', 'anger', 'anger', 'anger', 'anger', 'anger', 'anger', 'anger', 'anger', 'anger', 'anger', 'anger', 'anger', 'anger', 'anger', 'anger', 'anger', 'anger', 'anger', 'anger', 'anger', 'anger', 'anger', 'anger', 'anger', 'anger', 'anger', 'anger', 'anger', 'anger', 'anger', 'anger', 'anger', 'anger', 'anger', 'anger', 'anger', 'anger', 'anger', 'anger', 'anger', 'anger', 'anger', 'anger', 'anger', 'anger', 'anger', 'anger', 'anger', 'anger', 'anger', 'anger', 'anger', 'anger', 'anger', 'anger', 'anger', 'anger', 'anger', 'anger', 'anger', 'anger', 'anger', 'anger', 'anger', 'anger', 'anger', 'anger', 'anger', 'anger', 'anger', 'anger', 'anger', 'anger', 'anger', 'anger', 'anger', 'anger', 'anger', 'anger', 'anger', 'anger', 'anger', 'anger', 'anger', 'anger', 'anger', 'anger', 'anger', 'anger', 'anger', 'anger', 'anger', 'anger', 'anger', 'anger', 'anger', 'anger', 'anger', 'anger', 'anger', 'anger', 'anger', 'anger', 'anger', 'anger', 'anger', 'anger', 'anger', 'anger', 'anger', 'anger', 'anger', 'anger', 'anger', 'anger', 'anger', 'anger', 'anger', 'anger', 'anger', 'anger', 'anger', 'anger', 'anger', 'anger', 'anger', 'anger', 'anger', 'anger', 'anger', 'anger', 'anger', 'anger', 'anger', 'anger', 'anger', 'anger', 'anger', 'anger', 'anger', 'anger', 'anger', 'anger', 'anger', 'anger', 'anger', 'anger', 'anger', 'anger', 'anger', 'anger', 'anger', 'anger', 'anger', 'anger', 'anger', 'anger', 'anger', 'anger', 'anger', 'anger', 'anger', 'anger', 'anger', 'anger', 'anger', 'anger', 'anger', 'anger', 'anger', 'anger', 'anger', 'anger', 'anger', 'anger', 'anger', 'anger', 'anger', 'anger', 'anger', 'anger', 'anger', 'anger', 'anger', 'anger', 'anger', 'anger', 'anger', 'anger', 'anger', 'fear', 'fear', 'fear', 'fear', 'fear', 'fear', 'fear', 'fear', 'fear', 'fear', 'fear', 'fear', 'fear', 'fear', 'fear', 'fear', 'fear', 'fear', 'fear', 'fear', 'fear', 'fear', 'fear', 'fear', 'fear', 'fear', 'fear', 'fear', 'fear', 'fear', 'fear', 'fear', 'fear', 'fear', 'fear', 'fear', 'fear', 'fear', 'fear', 'fear', 'fear', 'fear', 'fear', 'fear', 'fear', 'fear', 'fear', 'fear', 'fear', 'fear', 'fear', 'fear', 'fear', 'fear', 'fear', 'fear', 'fear', 'fear', 'fear', 'fear', 'fear', 'fear', 'fear', 'fear', 'fear', 'fear', 'fear', 'fear', 'fear', 'fear', 'fear', 'fear', 'fear', 'fear', 'fear', 'fear', 'fear', 'fear', 'fear', 'fear', 'fear', 'fear', 'fear', 'fear', 'fear', 'fear', 'fear', 'fear', 'fear', 'fear', 'fear', 'fear', 'fear', 'fear', 'fear', 'fear', 'fear', 'fear', 'fear', 'fear', 'fear', 'fear', 'fear', 'fear', 'fear', 'fear', 'fear', 'fear', 'fear', 'fear', 'fear', 'fear', 'fear', 'fear', 'fear', 'fear', 'fear', 'fear', 'fear', 'fear', 'fear', 'fear', 'fear', 'fear', 'fear', 'fear', 'fear', 'fear', 'fear', 'fear', 'fear', 'fear', 'fear', 'fear', 'fear', 'fear', 'fear', 'fear', 'fear', 'fear', 'fear', 'fear', 'fear', 'fear', 'fear', 'fear', 'fear', 'fear', 'fear', 'fear', 'fear', 'fear', 'fear', 'fear', 'fear', 'fear', 'fear', 'fear', 'fear', 'fear', 'fear', 'fear', 'fear', 'fear', 'fear', 'fear', 'fear', 'fear', 'fear', 'fear', 'fear', 'fear', 'fear', 'fear', 'fear', 'fear', 'fear', 'fear', 'fear', 'fear', 'fear', 'fear', 'fear', 'fear', 'fear', 'fear', 'fear', 'fear', 'fear', 'fear', 'fear', 'fear', 'fear', 'fear', 'fear', 'fear', 'fear', 'fear', 'fear', 'fear', 'fear', 'fear', 'fear', 'fear', 'fear', 'fear', 'fear', 'fear', 'fear', 'fear', 'fear', 'fear', 'fear', 'fear', 'fear', 'fear', 'fear', 'fear', 'fear', 'fear', 'fear', 'fear', 'fear', 'fear', 'fear', 'fear', 'fear', 'fear', 'fear', 'fear', 'fear', 'fear', 'fear', 'fear', 'fear', 'fear', 'fear', 'fear', 'fear', 'fear', 'fear', 'fear', 'fear', 'fear', 'fear', 'fear', 'fear', 'fear', 'fear', 'fear', 'fear', 'fear', 'disgust', 'disgust', 'disgust', 'disgust', 'disgust', 'disgust', 'disgust', 'disgust', 'disgust', 'disgust', 'disgust', 'disgust', 'disgust', 'disgust', 'disgust', 'disgust', 'disgust', 'disgust', 'disgust', 'disgust', 'disgust', 'disgust', 'disgust', 'disgust', 'disgust', 'disgust', 'disgust', 'disgust', 'disgust', 'disgust', 'disgust', 'disgust', 'disgust', 'disgust', 'disgust', 'disgust', 'disgust', 'disgust', 'disgust', 'disgust', 'disgust', 'disgust', 'disgust', 'disgust', 'disgust', 'disgust', 'disgust', 'disgust', 'disgust', 'disgust', 'disgust', 'disgust', 'disgust', 'disgust', 'disgust', 'disgust', 'disgust', 'disgust', 'disgust', 'disgust', 'disgust', 'disgust', 'disgust', 'disgust', 'disgust', 'disgust', 'disgust', 'disgust', 'disgust', 'disgust', 'disgust', 'disgust', 'disgust', 'disgust', 'disgust', 'disgust', 'disgust', 'disgust', 'disgust', 'disgust', 'disgust', 'disgust', 'disgust', 'disgust', 'disgust', 'disgust', 'disgust', 'disgust', 'disgust', 'disgust', 'disgust', 'disgust', 'disgust', 'disgust', 'disgust', 'disgust', 'disgust', 'disgust', 'disgust', 'disgust', 'disgust', 'disgust', 'disgust', 'disgust', 'disgust', 'disgust', 'disgust', 'disgust', 'disgust', 'disgust', 'disgust', 'disgust', 'disgust', 'disgust', 'disgust', 'disgust', 'disgust', 'disgust', 'disgust', 'disgust', 'disgust', 'disgust', 'disgust', 'disgust', 'disgust', 'disgust', 'disgust', 'disgust', 'disgust', 'disgust', 'disgust', 'disgust', 'disgust', 'disgust', 'disgust', 'disgust', 'disgust', 'disgust', 'disgust', 'disgust', 'disgust', 'disgust', 'disgust', 'disgust', 'disgust', 'disgust', 'disgust', 'disgust', 'disgust', 'disgust', 'disgust', 'disgust', 'disgust', 'disgust', 'disgust', 'disgust', 'disgust', 'disgust', 'disgust', 'disgust', 'disgust', 'disgust', 'disgust', 'disgust', 'disgust', 'disgust', 'disgust', 'disgust', 'disgust', 'disgust', 'disgust', 'disgust', 'disgust', 'disgust', 'disgust', 'disgust', 'disgust', 'disgust', 'disgust', 'disgust', 'disgust', 'disgust', 'disgust', 'disgust', 'disgust', 'disgust', 'disgust', 'disgust', 'disgust', 'disgust', 'disgust', 'disgust', 'disgust', 'disgust', 'disgust', 'disgust', 'disgust', 'disgust', 'disgust', 'disgust', 'disgust', 'disgust', 'disgust', 'disgust', 'disgust', 'disgust', 'disgust', 'disgust', 'disgust', 'disgust', 'disgust', 'disgust', 'disgust', 'disgust', 'disgust', 'disgust', 'disgust', 'disgust', 'disgust', 'disgust', 'disgust', 'disgust', 'disgust', 'disgust', 'disgust', 'disgust', 'disgust', 'disgust', 'disgust', 'disgust', 'disgust', 'disgust', 'disgust', 'disgust', 'disgust', 'disgust', 'disgust', 'disgust', 'disgust', 'disgust', 'disgust', 'disgust', 'disgust', 'disgust', 'disgust', 'disgust', 'disgust', 'disgust', 'disgust', 'disgust']\n"
          ]
        }
      ]
    },
    {
      "cell_type": "code",
      "metadata": {
        "colab": {
          "base_uri": "https://localhost:8080/"
        },
        "id": "klRRRzfBwQO-",
        "outputId": "2df307ab-c4f9-443b-bad4-9bc16b4ca82e"
      },
      "source": [
        "# perform a training and testing split, using 75% of the data for\n",
        "# training and 25% for evaluation\n",
        "(trainX, testX, trainY, testY) = train_test_split(np.array(data),\n",
        "\tnp.array(labels), test_size=0.25)\n",
        "print(trainX.shape)\n",
        "print(testX.shape)"
      ],
      "execution_count": null,
      "outputs": [
        {
          "output_type": "stream",
          "name": "stdout",
          "text": [
            "(1315, 1, 32, 32)\n",
            "(439, 1, 32, 32)\n"
          ]
        }
      ]
    },
    {
      "cell_type": "code",
      "metadata": {
        "colab": {
          "base_uri": "https://localhost:8080/"
        },
        "id": "ZgtN2ihdso1C",
        "outputId": "474bdc41-4039-4caf-f770-c16aaf807211"
      },
      "source": [
        "from sklearn.preprocessing import LabelBinarizer\n",
        "encoder = LabelBinarizer()\n",
        "trainY = encoder.fit_transform(trainY)\n",
        "testY = encoder.fit_transform(testY)\n",
        "print(testY)"
      ],
      "execution_count": null,
      "outputs": [
        {
          "output_type": "stream",
          "name": "stdout",
          "text": [
            "[[0 1 0 ... 0 0 0]\n",
            " [0 1 0 ... 0 0 0]\n",
            " [0 1 0 ... 0 0 0]\n",
            " ...\n",
            " [0 0 0 ... 0 1 0]\n",
            " [0 0 0 ... 0 1 0]\n",
            " [0 1 0 ... 0 0 0]]\n"
          ]
        }
      ]
    },
    {
      "cell_type": "code",
      "metadata": {
        "id": "bEhI2_dDwd1I"
      },
      "source": [
        "#MODEL 1\n",
        "# define our Convolutional Neural Network architecture\n",
        "model = Sequential()\n",
        "model.add(Reshape((32,32,1), input_shape=(None,32,32,1)))\n",
        "model.add(Conv2D(64, (3, 3)))\n",
        "model.add(Activation(\"relu\"))\n",
        "model.add(MaxPooling2D(pool_size=(2, 2), strides=(2, 2)))\n",
        "\n",
        "model.add(Conv2D(32, (3, 3)))\n",
        "model.add(Activation(\"relu\"))\n",
        "model.add(MaxPooling2D(pool_size=(2, 2), strides=(2, 2)))\n",
        "\n",
        "model.add(Conv2D(16, (3, 3)))\n",
        "model.add(Activation(\"relu\"))\n",
        "model.add(MaxPooling2D(pool_size=(2, 2), strides=(2, 2)))\n",
        "\n",
        "model.add(Flatten())\n",
        "model.add(Dense(32))\n",
        "model.add(Activation(\"relu\"))\n",
        "model.add(Dense(7))\n",
        "model.add(Activation(\"softmax\"))"
      ],
      "execution_count": null,
      "outputs": []
    },
    {
      "cell_type": "code",
      "metadata": {
        "colab": {
          "base_uri": "https://localhost:8080/"
        },
        "id": "oghdol2GwiPl",
        "outputId": "46826635-b375-4f4a-ef09-39eea1f1ab51"
      },
      "source": [
        "from tensorflow.keras.optimizers import RMSprop\n",
        "opt = RMSprop(lr=0.001)\n",
        "model.compile(loss='categorical_crossentropy', optimizer=opt, metrics=['accuracy'])\n",
        "model.summary()"
      ],
      "execution_count": null,
      "outputs": [
        {
          "output_type": "stream",
          "name": "stdout",
          "text": [
            "Model: \"sequential\"\n",
            "_________________________________________________________________\n",
            " Layer (type)                Output Shape              Param #   \n",
            "=================================================================\n",
            " reshape (Reshape)           (None, 32, 32, 1)         0         \n",
            "                                                                 \n",
            " conv2d (Conv2D)             (None, 30, 30, 64)        640       \n",
            "                                                                 \n",
            " activation (Activation)     (None, 30, 30, 64)        0         \n",
            "                                                                 \n",
            " max_pooling2d (MaxPooling2D  (None, 15, 15, 64)       0         \n",
            " )                                                               \n",
            "                                                                 \n",
            " conv2d_1 (Conv2D)           (None, 13, 13, 32)        18464     \n",
            "                                                                 \n",
            " activation_1 (Activation)   (None, 13, 13, 32)        0         \n",
            "                                                                 \n",
            " max_pooling2d_1 (MaxPooling  (None, 6, 6, 32)         0         \n",
            " 2D)                                                             \n",
            "                                                                 \n",
            " conv2d_2 (Conv2D)           (None, 4, 4, 16)          4624      \n",
            "                                                                 \n",
            " activation_2 (Activation)   (None, 4, 4, 16)          0         \n",
            "                                                                 \n",
            " max_pooling2d_2 (MaxPooling  (None, 2, 2, 16)         0         \n",
            " 2D)                                                             \n",
            "                                                                 \n",
            " flatten (Flatten)           (None, 64)                0         \n",
            "                                                                 \n",
            " dense (Dense)               (None, 32)                2080      \n",
            "                                                                 \n",
            " activation_3 (Activation)   (None, 32)                0         \n",
            "                                                                 \n",
            " dense_1 (Dense)             (None, 7)                 231       \n",
            "                                                                 \n",
            " activation_4 (Activation)   (None, 7)                 0         \n",
            "                                                                 \n",
            "=================================================================\n",
            "Total params: 26,039\n",
            "Trainable params: 26,039\n",
            "Non-trainable params: 0\n",
            "_________________________________________________________________\n"
          ]
        },
        {
          "output_type": "stream",
          "name": "stderr",
          "text": [
            "/usr/local/lib/python3.7/dist-packages/keras/optimizer_v2/rmsprop.py:130: UserWarning: The `lr` argument is deprecated, use `learning_rate` instead.\n",
            "  super(RMSprop, self).__init__(name, **kwargs)\n"
          ]
        }
      ]
    },
    {
      "cell_type": "code",
      "metadata": {
        "id": "K9kCtWcx4NMA"
      },
      "source": [
        "import tensorflow as tf\n",
        "class myCallback(tf.keras.callbacks.Callback):\n",
        " def on_epoch_end(self, epoch, logs={}):\n",
        "    if(logs.get('val_accuracy')>=0.95):\n",
        "      print(\"\\nReached 90.0% accuracy so cancelling training!\")\n",
        "      self.model.stop_training = True\n",
        "\n",
        "callbacks = myCallback()\n"
      ],
      "execution_count": null,
      "outputs": []
    },
    {
      "cell_type": "code",
      "metadata": {
        "colab": {
          "base_uri": "https://localhost:8080/"
        },
        "id": "2tyjNHQ04P0u",
        "outputId": "e081910d-90ba-4a34-bd7d-5ab6c2327e23"
      },
      "source": [
        "H = model.fit(trainX, trainY, validation_data=(testX, testY), epochs=40, batch_size=20) "
      ],
      "execution_count": null,
      "outputs": [
        {
          "output_type": "stream",
          "name": "stdout",
          "text": [
            "Epoch 1/40\n",
            "66/66 [==============================] - 3s 39ms/step - loss: 1.9459 - accuracy: 0.1551 - val_loss: 1.9440 - val_accuracy: 0.1185\n",
            "Epoch 2/40\n",
            "66/66 [==============================] - 2s 36ms/step - loss: 1.8874 - accuracy: 0.2601 - val_loss: 1.7832 - val_accuracy: 0.3121\n",
            "Epoch 3/40\n",
            "66/66 [==============================] - 2s 36ms/step - loss: 1.6027 - accuracy: 0.4297 - val_loss: 1.4565 - val_accuracy: 0.3736\n",
            "Epoch 4/40\n",
            "66/66 [==============================] - 2s 36ms/step - loss: 1.2299 - accuracy: 0.5924 - val_loss: 1.2369 - val_accuracy: 0.5239\n",
            "Epoch 5/40\n",
            "66/66 [==============================] - 2s 37ms/step - loss: 0.9637 - accuracy: 0.6844 - val_loss: 0.8846 - val_accuracy: 0.7244\n",
            "Epoch 6/40\n",
            "66/66 [==============================] - 2s 37ms/step - loss: 0.7772 - accuracy: 0.7407 - val_loss: 0.7923 - val_accuracy: 0.7540\n",
            "Epoch 7/40\n",
            "66/66 [==============================] - 2s 37ms/step - loss: 0.6318 - accuracy: 0.7871 - val_loss: 0.6388 - val_accuracy: 0.7995\n",
            "Epoch 8/40\n",
            "66/66 [==============================] - 2s 37ms/step - loss: 0.5321 - accuracy: 0.8205 - val_loss: 0.4946 - val_accuracy: 0.8497\n",
            "Epoch 9/40\n",
            "66/66 [==============================] - 2s 36ms/step - loss: 0.4900 - accuracy: 0.8388 - val_loss: 0.4499 - val_accuracy: 0.8451\n",
            "Epoch 10/40\n",
            "66/66 [==============================] - 2s 36ms/step - loss: 0.4093 - accuracy: 0.8722 - val_loss: 0.4560 - val_accuracy: 0.8588\n",
            "Epoch 11/40\n",
            "66/66 [==============================] - 2s 37ms/step - loss: 0.3388 - accuracy: 0.8958 - val_loss: 0.4401 - val_accuracy: 0.8383\n",
            "Epoch 12/40\n",
            "66/66 [==============================] - 2s 36ms/step - loss: 0.2889 - accuracy: 0.9118 - val_loss: 0.3462 - val_accuracy: 0.8838\n",
            "Epoch 13/40\n",
            "66/66 [==============================] - 2s 36ms/step - loss: 0.2630 - accuracy: 0.9179 - val_loss: 0.4624 - val_accuracy: 0.8337\n",
            "Epoch 14/40\n",
            "66/66 [==============================] - 2s 37ms/step - loss: 0.2304 - accuracy: 0.9293 - val_loss: 0.2912 - val_accuracy: 0.9043\n",
            "Epoch 15/40\n",
            "66/66 [==============================] - 2s 36ms/step - loss: 0.1963 - accuracy: 0.9414 - val_loss: 0.2446 - val_accuracy: 0.9294\n",
            "Epoch 16/40\n",
            "66/66 [==============================] - 2s 37ms/step - loss: 0.1717 - accuracy: 0.9506 - val_loss: 0.2891 - val_accuracy: 0.9112\n",
            "Epoch 17/40\n",
            "66/66 [==============================] - 2s 36ms/step - loss: 0.1542 - accuracy: 0.9635 - val_loss: 0.4977 - val_accuracy: 0.8360\n",
            "Epoch 18/40\n",
            "66/66 [==============================] - 2s 37ms/step - loss: 0.1450 - accuracy: 0.9574 - val_loss: 0.2151 - val_accuracy: 0.9339\n",
            "Epoch 19/40\n",
            "66/66 [==============================] - 2s 37ms/step - loss: 0.1196 - accuracy: 0.9681 - val_loss: 0.1668 - val_accuracy: 0.9590\n",
            "Epoch 20/40\n",
            "66/66 [==============================] - 2s 37ms/step - loss: 0.1096 - accuracy: 0.9741 - val_loss: 0.1924 - val_accuracy: 0.9567\n",
            "Epoch 21/40\n",
            "66/66 [==============================] - 2s 37ms/step - loss: 0.0951 - accuracy: 0.9757 - val_loss: 0.2373 - val_accuracy: 0.9226\n",
            "Epoch 22/40\n",
            "66/66 [==============================] - 2s 37ms/step - loss: 0.0883 - accuracy: 0.9741 - val_loss: 0.2570 - val_accuracy: 0.9203\n",
            "Epoch 23/40\n",
            "66/66 [==============================] - 2s 37ms/step - loss: 0.0798 - accuracy: 0.9825 - val_loss: 0.1617 - val_accuracy: 0.9453\n",
            "Epoch 24/40\n",
            "66/66 [==============================] - 2s 37ms/step - loss: 0.0646 - accuracy: 0.9848 - val_loss: 0.1536 - val_accuracy: 0.9681\n",
            "Epoch 25/40\n",
            "66/66 [==============================] - 2s 36ms/step - loss: 0.0624 - accuracy: 0.9848 - val_loss: 0.1374 - val_accuracy: 0.9613\n",
            "Epoch 26/40\n",
            "66/66 [==============================] - 2s 37ms/step - loss: 0.0613 - accuracy: 0.9833 - val_loss: 0.1162 - val_accuracy: 0.9658\n",
            "Epoch 27/40\n",
            "66/66 [==============================] - 2s 37ms/step - loss: 0.0475 - accuracy: 0.9871 - val_loss: 0.2084 - val_accuracy: 0.9453\n",
            "Epoch 28/40\n",
            "66/66 [==============================] - 2s 37ms/step - loss: 0.0501 - accuracy: 0.9863 - val_loss: 0.1109 - val_accuracy: 0.9704\n",
            "Epoch 29/40\n",
            "66/66 [==============================] - 2s 37ms/step - loss: 0.0307 - accuracy: 0.9932 - val_loss: 0.1703 - val_accuracy: 0.9544\n",
            "Epoch 30/40\n",
            "66/66 [==============================] - 2s 37ms/step - loss: 0.0429 - accuracy: 0.9863 - val_loss: 0.2050 - val_accuracy: 0.9453\n",
            "Epoch 31/40\n",
            "66/66 [==============================] - 2s 37ms/step - loss: 0.0331 - accuracy: 0.9901 - val_loss: 0.1183 - val_accuracy: 0.9749\n",
            "Epoch 32/40\n",
            "66/66 [==============================] - 2s 37ms/step - loss: 0.0249 - accuracy: 0.9962 - val_loss: 0.1143 - val_accuracy: 0.9681\n",
            "Epoch 33/40\n",
            "66/66 [==============================] - 2s 37ms/step - loss: 0.0256 - accuracy: 0.9939 - val_loss: 0.1007 - val_accuracy: 0.9772\n",
            "Epoch 34/40\n",
            "66/66 [==============================] - 2s 37ms/step - loss: 0.0144 - accuracy: 0.9970 - val_loss: 0.1164 - val_accuracy: 0.9795\n",
            "Epoch 35/40\n",
            "66/66 [==============================] - 2s 37ms/step - loss: 0.0197 - accuracy: 0.9939 - val_loss: 0.1434 - val_accuracy: 0.9727\n",
            "Epoch 36/40\n",
            "66/66 [==============================] - 2s 37ms/step - loss: 0.0144 - accuracy: 0.9962 - val_loss: 0.1352 - val_accuracy: 0.9727\n",
            "Epoch 37/40\n",
            "66/66 [==============================] - 2s 37ms/step - loss: 0.0143 - accuracy: 0.9970 - val_loss: 0.1302 - val_accuracy: 0.9727\n",
            "Epoch 38/40\n",
            "66/66 [==============================] - 2s 37ms/step - loss: 0.0159 - accuracy: 0.9962 - val_loss: 0.1227 - val_accuracy: 0.9727\n",
            "Epoch 39/40\n",
            "66/66 [==============================] - 2s 37ms/step - loss: 0.0191 - accuracy: 0.9947 - val_loss: 0.1221 - val_accuracy: 0.9749\n",
            "Epoch 40/40\n",
            "66/66 [==============================] - 2s 37ms/step - loss: 0.0174 - accuracy: 0.9954 - val_loss: 0.1172 - val_accuracy: 0.9749\n"
          ]
        }
      ]
    },
    {
      "cell_type": "code",
      "metadata": {
        "colab": {
          "base_uri": "https://localhost:8080/",
          "height": 590
        },
        "id": "xmE8q7qAAt-n",
        "outputId": "c844f8a8-1af2-4054-bccc-a6d3334fb240"
      },
      "source": [
        "import matplotlib.pyplot as plt\n",
        "\n",
        "print(H.history.keys())\n",
        "# summarize history for accuracy\n",
        "plt.plot(H.history['accuracy'])\n",
        "plt.plot(H.history['val_accuracy'])\n",
        "plt.title('MODEL ACCURACY')\n",
        "plt.ylabel('Accuracy')\n",
        "plt.xlabel('Epoch')\n",
        "plt.legend(['Training Data', 'Testing Data'], loc='lower right')\n",
        "X = np.linspace(0, 100, 100)\n",
        "plt.ylim(.1, 1)\n",
        "plt.show()\n",
        "# summarize history for loss\n",
        "plt.plot(H.history['loss'])\n",
        "plt.plot(H.history['val_loss'])\n",
        "plt.title('MODEL LOSS')\n",
        "plt.ylabel('Loss')\n",
        "plt.xlabel('Epoch')\n",
        "plt.legend(['Training Data', 'Testing Data'], loc='lower right')\n",
        "X = np.linspace(0, 100, 100)\n",
        "plt.ylim(.1, 2)\n",
        "plt.show()"
      ],
      "execution_count": null,
      "outputs": [
        {
          "output_type": "stream",
          "name": "stdout",
          "text": [
            "dict_keys(['loss', 'accuracy', 'val_loss', 'val_accuracy'])\n"
          ]
        },
        {
          "output_type": "display_data",
          "data": {
            "image/png": "[encoded data removed]",
            "text/plain": [
              "<Figure size 432x288 with 1 Axes>"
            ]
          },
          "metadata": {
            "needs_background": "light"
          }
        },
        {
          "output_type": "display_data",
          "data": {
            "image/png": "[encoded data removed]",
            "text/plain": [
              "<Figure size 432x288 with 1 Axes>"
            ]
          },
          "metadata": {
            "needs_background": "light"
          }
        }
      ]
    },
    {
      "cell_type": "code",
      "metadata": {
        "colab": {
          "base_uri": "https://localhost:8080/"
        },
        "id": "hbkdzrvbA73X",
        "outputId": "13be5d96-1d5e-440a-c8bd-3f5d7c87bcdc"
      },
      "source": [
        "# evaluate the network\n",
        "print(\"[INFO] evaluating network...\")\n",
        "target_names=['anger','contempt','disgust','fear','happy','sadness','surprise']\n",
        "predictions = model.predict(testX, batch_size=32)\n",
        "print(predictions)\n",
        "print(testY)\n",
        "print(classification_report(testY.argmax(axis=1),\n",
        "  predictions.argmax(axis=1), target_names=target_names))"
      ],
      "execution_count": null,
      "outputs": [
        {
          "output_type": "stream",
          "name": "stdout",
          "text": [
            "[INFO] evaluating network...\n",
            "[[4.72906940e-08 9.98731077e-01 5.89880474e-05 ... 1.16053479e-05\n",
            "  9.22147159e-09 1.18002528e-03]\n",
            " [4.05107403e-06 9.99991536e-01 1.63393395e-06 ... 7.83513372e-07\n",
            "  1.36968876e-12 1.90620221e-06]\n",
            " [1.05497304e-04 9.99878764e-01 2.19309571e-10 ... 1.44095779e-07\n",
            "  4.81942880e-06 8.13841837e-07]\n",
            " ...\n",
            " [8.40169450e-05 5.87064771e-17 1.49705262e-10 ... 1.90772043e-21\n",
            "  9.99915957e-01 9.51594381e-13]\n",
            " [6.50780194e-08 6.30742030e-12 6.89500768e-09 ... 3.37407766e-16\n",
            "  9.99867320e-01 1.21014404e-04]\n",
            " [2.40360976e-07 9.99474823e-01 6.80654821e-09 ... 1.46904213e-07\n",
            "  1.46259838e-10 5.24306728e-04]]\n",
            "[[0 1 0 ... 0 0 0]\n",
            " [0 1 0 ... 0 0 0]\n",
            " [0 1 0 ... 0 0 0]\n",
            " ...\n",
            " [0 0 0 ... 0 1 0]\n",
            " [0 0 0 ... 0 1 0]\n",
            " [0 1 0 ... 0 0 0]]\n",
            "              precision    recall  f1-score   support\n",
            "\n",
            "       anger       0.98      0.96      0.97        52\n",
            "    contempt       0.91      1.00      0.95        52\n",
            "     disgust       1.00      0.97      0.99        77\n",
            "        fear       0.96      0.89      0.93        56\n",
            "       happy       0.99      1.00      0.99        67\n",
            "     sadness       0.97      0.99      0.98        68\n",
            "    surprise       1.00      1.00      1.00        67\n",
            "\n",
            "    accuracy                           0.97       439\n",
            "   macro avg       0.97      0.97      0.97       439\n",
            "weighted avg       0.98      0.97      0.97       439\n",
            "\n"
          ]
        }
      ]
    },
    {
      "cell_type": "code",
      "metadata": {
        "colab": {
          "base_uri": "https://localhost:8080/"
        },
        "id": "C3PzEDWaFMBo",
        "outputId": "56324f65-d204-4f0e-dc41-42269c6b922d"
      },
      "source": [
        "import sklearn.metrics as metrics\n",
        "import seaborn as sn\n",
        "import matplotlib.pyplot as plt\n",
        "confusion_matrix = metrics.confusion_matrix(testY.argmax(axis=1),predictions.argmax(axis=1))\n",
        "x_axis_labels = ['anger','contempt','disgust','fear','happy','sadness','surprise']\n",
        "y_axis_labels = ['anger','contempt','disgust','fear','happy','sadness','surprise']\n",
        "sn.heatmap(confusion_matrix, xticklabels=x_axis_labels, yticklabels=y_axis_labels, annot=True, fmt='d')\n",
        "plt.xlabel('Predicted')\n",
        "plt.ylabel('True')\n",
        "plt.tight_layout()\n",
        "plt.show()"
      ],
      "execution_count": null,
      "outputs": [
        {
          "output_type": "display_data",
          "data": {
            "image/png": "[encoded data removed]",
            "text/plain": [
              "<Figure size 432x288 with 2 Axes>"
            ]
          },
          "metadata": {
            "needs_background": "light"
          }
        }
      ]
    }
  ]
}